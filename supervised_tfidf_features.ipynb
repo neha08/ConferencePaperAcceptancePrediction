{
  "nbformat": 4,
  "nbformat_minor": 0,
  "metadata": {
    "colab": {
      "name": "supervised_tfidf_features.ipynb",
      "provenance": [],
      "collapsed_sections": []
    },
    "kernelspec": {
      "name": "python3",
      "display_name": "Python 3"
    }
  },
  "cells": [
    {
      "cell_type": "markdown",
      "metadata": {
        "id": "9-WeFcCBwbU6",
        "colab_type": "text"
      },
      "source": [
        "\n",
        "# Models using TFIDF vectors of abstracts\n",
        "\n",
        "\n"
      ]
    },
    {
      "cell_type": "markdown",
      "metadata": {
        "id": "skuQXVHWwneX",
        "colab_type": "text"
      },
      "source": [
        "**ENVIRONMENT SETUP**"
      ]
    },
    {
      "cell_type": "code",
      "metadata": {
        "id": "M6FdLSTPWN9w",
        "colab_type": "code",
        "outputId": "85a66272-75fa-4489-d2bc-c8083432c69c",
        "colab": {
          "base_uri": "https://localhost:8080/",
          "height": 286
        }
      },
      "source": [
        "pip install prince"
      ],
      "execution_count": 0,
      "outputs": [
        {
          "output_type": "stream",
          "text": [
            "Collecting prince\n",
            "  Downloading https://files.pythonhosted.org/packages/51/f4/8de7003b86351a0e32e29ca2bbbbbf58e311b09f9286e83e638d437aee6d/prince-0.7.0-py3-none-any.whl\n",
            "Requirement already satisfied: matplotlib>=3.0.2 in /usr/local/lib/python3.6/dist-packages (from prince) (3.2.1)\n",
            "Requirement already satisfied: scipy>=1.3.0 in /usr/local/lib/python3.6/dist-packages (from prince) (1.4.1)\n",
            "Requirement already satisfied: scikit-learn>=0.22.1 in /usr/local/lib/python3.6/dist-packages (from prince) (0.22.2.post1)\n",
            "Requirement already satisfied: numpy>=1.17.1 in /usr/local/lib/python3.6/dist-packages (from prince) (1.18.2)\n",
            "Requirement already satisfied: pandas>=1.0.3 in /usr/local/lib/python3.6/dist-packages (from prince) (1.0.3)\n",
            "Requirement already satisfied: python-dateutil>=2.1 in /usr/local/lib/python3.6/dist-packages (from matplotlib>=3.0.2->prince) (2.8.1)\n",
            "Requirement already satisfied: cycler>=0.10 in /usr/local/lib/python3.6/dist-packages (from matplotlib>=3.0.2->prince) (0.10.0)\n",
            "Requirement already satisfied: kiwisolver>=1.0.1 in /usr/local/lib/python3.6/dist-packages (from matplotlib>=3.0.2->prince) (1.2.0)\n",
            "Requirement already satisfied: pyparsing!=2.0.4,!=2.1.2,!=2.1.6,>=2.0.1 in /usr/local/lib/python3.6/dist-packages (from matplotlib>=3.0.2->prince) (2.4.7)\n",
            "Requirement already satisfied: joblib>=0.11 in /usr/local/lib/python3.6/dist-packages (from scikit-learn>=0.22.1->prince) (0.14.1)\n",
            "Requirement already satisfied: pytz>=2017.2 in /usr/local/lib/python3.6/dist-packages (from pandas>=1.0.3->prince) (2018.9)\n",
            "Requirement already satisfied: six>=1.5 in /usr/local/lib/python3.6/dist-packages (from python-dateutil>=2.1->matplotlib>=3.0.2->prince) (1.12.0)\n",
            "Installing collected packages: prince\n",
            "Successfully installed prince-0.7.0\n"
          ],
          "name": "stdout"
        }
      ]
    },
    {
      "cell_type": "code",
      "metadata": {
        "id": "ccY4pcz_W0sM",
        "colab_type": "code",
        "outputId": "e78858fc-f7db-44d8-9d41-8d060df0bba0",
        "colab": {
          "base_uri": "https://localhost:8080/",
          "height": 70
        }
      },
      "source": [
        "import pandas as pd\n",
        "import numpy as np\n",
        "import prince\n",
        "from sklearn.svm import SVC\n",
        "from sklearn.model_selection import GridSearchCV,cross_val_score\n",
        "import pickle\n",
        "from sklearn.metrics import classification_report, confusion_matrix\n",
        "from sklearn.decomposition import PCA\n",
        "from tqdm import tqdm\n",
        "import seaborn as sns\n",
        "import statsmodels.api as sm\n",
        "import matplotlib.pyplot as plt"
      ],
      "execution_count": 0,
      "outputs": [
        {
          "output_type": "stream",
          "text": [
            "/usr/local/lib/python3.6/dist-packages/statsmodels/tools/_testing.py:19: FutureWarning: pandas.util.testing is deprecated. Use the functions in the public API at pandas.testing instead.\n",
            "  import pandas.util.testing as tm\n"
          ],
          "name": "stderr"
        }
      ]
    },
    {
      "cell_type": "markdown",
      "metadata": {
        "id": "In9kc2JNxAIq",
        "colab_type": "text"
      },
      "source": [
        "**DATA SETUP**"
      ]
    },
    {
      "cell_type": "code",
      "metadata": {
        "id": "Vn9rQY-hXOAn",
        "colab_type": "code",
        "outputId": "379972af-9c5c-48e8-abbd-3ab2d72de2d3",
        "colab": {
          "base_uri": "https://localhost:8080/",
          "height": 121
        }
      },
      "source": [
        "from google.colab import drive\n",
        "drive.mount('/content/drive')"
      ],
      "execution_count": 0,
      "outputs": [
        {
          "output_type": "stream",
          "text": [
            "Go to this URL in a browser: https://accounts.google.com/o/oauth2/auth?client_id=947318989803-6bn6qk8qdgf4n4g3pfee6491hc0brc4i.apps.googleusercontent.com&redirect_uri=urn%3aietf%3awg%3aoauth%3a2.0%3aoob&response_type=code&scope=email%20https%3a%2f%2fwww.googleapis.com%2fauth%2fdocs.test%20https%3a%2f%2fwww.googleapis.com%2fauth%2fdrive%20https%3a%2f%2fwww.googleapis.com%2fauth%2fdrive.photos.readonly%20https%3a%2f%2fwww.googleapis.com%2fauth%2fpeopleapi.readonly\n",
            "\n",
            "Enter your authorization code:\n",
            "··········\n",
            "Mounted at /content/drive\n"
          ],
          "name": "stdout"
        }
      ]
    },
    {
      "cell_type": "code",
      "metadata": {
        "id": "HV3zITR6W5e5",
        "colab_type": "code",
        "colab": {}
      },
      "source": [
        "tfidf_df = pd.read_pickle(\"/content/drive/My Drive/ML/paper_data_tfidf_train.pkl\") \n",
        "train_data_indices = pd.read_pickle(\"/content/drive/My Drive/ML/train_data_paper_ids.pkl\").tolist() \n",
        "train_data_df = tfidf_df.loc[tfidf_df['paper_id'].isin(train_data_indices)]\n",
        "test_data_df = tfidf_df.loc[~tfidf_df['paper_id'].isin(train_data_indices)]"
      ],
      "execution_count": 0,
      "outputs": []
    },
    {
      "cell_type": "code",
      "metadata": {
        "id": "ogXhqtUI2IeP",
        "colab_type": "code",
        "outputId": "7ee83332-4d5b-45f1-c3b3-5e6c5d9e62af",
        "colab": {
          "base_uri": "https://localhost:8080/",
          "height": 34
        }
      },
      "source": [
        "#TRAIN DATA\n",
        "X_train = np.vstack(train_data_df['tfidf_encoding'].values.tolist())\n",
        "y_train = np.asarray([1 if item==True else 0 for item in list(train_data_df['accepted'])])\n",
        "\n",
        "#TEST DATA\n",
        "X_test = np.vstack(test_data_df['tfidf_encoding'].values.tolist())\n",
        "y_test = np.asarray([1 if item==True else 0 for item in list(test_data_df['accepted'])])\n",
        "print(X_train.shape)"
      ],
      "execution_count": 0,
      "outputs": [
        {
          "output_type": "stream",
          "text": [
            "(349, 6230)\n"
          ],
          "name": "stdout"
        }
      ]
    },
    {
      "cell_type": "markdown",
      "metadata": {
        "id": "g1iW_hIZ0uyQ",
        "colab_type": "text"
      },
      "source": [
        "**DIMENSION REDUCTION**"
      ]
    },
    {
      "cell_type": "code",
      "metadata": {
        "id": "7zfqdJUI0q9V",
        "colab_type": "code",
        "outputId": "1e63c58e-6f90-4d1d-9269-ad4df7d2f425",
        "colab": {
          "base_uri": "https://localhost:8080/",
          "height": 50
        }
      },
      "source": [
        "tfidf_vector_size = X_train.shape[1]+1\n",
        "for i in tqdm(range(2,tfidf_vector_size)):\n",
        "    pca = prince.PCA(n_components=i)\n",
        "    pca = pca.fit(X_train)\n",
        "    retained_variance = sum(pca.explained_inertia_)\n",
        "    if retained_variance > 0.85:\n",
        "        break\n",
        "print(\"\\nVariance retained for \",i,\" components = \",retained_variance)\n",
        "X_train_reduced = pca.fit_transform(X_train)\n",
        "X_test_reduced = pca.transform(X_test)"
      ],
      "execution_count": 0,
      "outputs": [
        {
          "output_type": "stream",
          "text": [
            "  4%|▍         | 263/6229 [02:01<1:23:35,  1.19it/s]"
          ],
          "name": "stderr"
        },
        {
          "output_type": "stream",
          "text": [
            "\n",
            "Variance retained for  265  components =  0.8513554668430885\n"
          ],
          "name": "stdout"
        }
      ]
    },
    {
      "cell_type": "markdown",
      "metadata": {
        "id": "SJt4An1osFnC",
        "colab_type": "text"
      },
      "source": [
        "\n",
        "\n",
        "---\n",
        "\n",
        "**COMPLEMENT NAIVE BAYES**\n",
        "\n",
        "---\n"
      ]
    },
    {
      "cell_type": "code",
      "metadata": {
        "colab_type": "code",
        "id": "T8XXfm-H7_Ro",
        "colab": {}
      },
      "source": [
        "from sklearn.naive_bayes import MultinomialNB,ComplementNB\n",
        "from sklearn.model_selection import GridSearchCV\n",
        "parameters = {'alpha': np.linspace(0,5, num=1000)}\n",
        "tfidf_ComplementNB = ComplementNB()\n",
        "clf_tfidf_ComplementNB = GridSearchCV(tfidf_ComplementNB, parameters,verbose=1,cv=10,n_jobs=-1)"
      ],
      "execution_count": 0,
      "outputs": []
    },
    {
      "cell_type": "code",
      "metadata": {
        "id": "U9miwD4_8Yzw",
        "colab_type": "code",
        "outputId": "6b01b8c3-c1cd-4c5f-9ff0-6185d60f4ee2",
        "colab": {
          "base_uri": "https://localhost:8080/",
          "height": 151
        }
      },
      "source": [
        "#TRAIN\n",
        "clf_tfidf_ComplementNB.fit(X_train,y_train)\n",
        "#SAVE MODEL\n",
        "import pickle\n",
        "filename = 'tfidf_ComplementNB_model.sav'\n",
        "pickle.dump(clf_tfidf_ComplementNB, open(filename, 'wb'))"
      ],
      "execution_count": 0,
      "outputs": [
        {
          "output_type": "stream",
          "text": [
            "Fitting 10 folds for each of 1000 candidates, totalling 10000 fits\n"
          ],
          "name": "stdout"
        },
        {
          "output_type": "stream",
          "text": [
            "[Parallel(n_jobs=-1)]: Using backend LokyBackend with 2 concurrent workers.\n",
            "[Parallel(n_jobs=-1)]: Done 202 tasks      | elapsed:    3.3s\n",
            "[Parallel(n_jobs=-1)]: Done 1402 tasks      | elapsed:   16.6s\n",
            "[Parallel(n_jobs=-1)]: Done 3402 tasks      | elapsed:   38.6s\n",
            "[Parallel(n_jobs=-1)]: Done 6202 tasks      | elapsed:  1.2min\n",
            "[Parallel(n_jobs=-1)]: Done 9802 tasks      | elapsed:  1.8min\n",
            "[Parallel(n_jobs=-1)]: Done 10000 out of 10000 | elapsed:  1.9min finished\n"
          ],
          "name": "stderr"
        }
      ]
    },
    {
      "cell_type": "code",
      "metadata": {
        "id": "naBRdHS8-KgX",
        "colab_type": "code",
        "outputId": "b28ec73b-c099-4f72-a5c3-7c928ac6ea26",
        "colab": {
          "base_uri": "https://localhost:8080/",
          "height": 50
        }
      },
      "source": [
        "#VALIDATION SCORE\n",
        "best_params = clf_tfidf_ComplementNB.best_params_\n",
        "val_score = clf_tfidf_ComplementNB.best_score_\n",
        "print(best_params)\n",
        "print(\"VALIDATION SCORE =\",val_score)"
      ],
      "execution_count": 0,
      "outputs": [
        {
          "output_type": "stream",
          "text": [
            "{'alpha': 3.4034034034034035}\n",
            "VALIDATION SCORE = 0.601764705882353\n"
          ],
          "name": "stdout"
        }
      ]
    },
    {
      "cell_type": "code",
      "metadata": {
        "id": "xUWBH_jM_lJ0",
        "colab_type": "code",
        "outputId": "d570b7d0-c336-4d8a-afde-ccfcdc0b3956",
        "colab": {
          "base_uri": "https://localhost:8080/",
          "height": 218
        }
      },
      "source": [
        "#TEST SCORE \n",
        "from sklearn.metrics import classification_report, confusion_matrix, accuracy_score  \n",
        "clf_predictions = clf_tfidf_ComplementNB.predict(X_test)\n",
        "print(confusion_matrix(y_test,clf_predictions))\n",
        "print(classification_report(y_test,clf_predictions))\n",
        "print(accuracy_score(y_test,clf_predictions))"
      ],
      "execution_count": 0,
      "outputs": [
        {
          "output_type": "stream",
          "text": [
            "[[43  1]\n",
            " [31  2]]\n",
            "              precision    recall  f1-score   support\n",
            "\n",
            "           0       0.58      0.98      0.73        44\n",
            "           1       0.67      0.06      0.11        33\n",
            "\n",
            "    accuracy                           0.58        77\n",
            "   macro avg       0.62      0.52      0.42        77\n",
            "weighted avg       0.62      0.58      0.46        77\n",
            "\n",
            "0.5844155844155844\n"
          ],
          "name": "stdout"
        }
      ]
    },
    {
      "cell_type": "markdown",
      "metadata": {
        "colab_type": "text",
        "id": "7tL4lHuMBZhk"
      },
      "source": [
        "\n",
        "---\n",
        "\n",
        "**MULTINOMIAL NAIVE BAYES**\n",
        "\n",
        "---\n"
      ]
    },
    {
      "cell_type": "code",
      "metadata": {
        "colab_type": "code",
        "id": "cUrBATVyBZh5",
        "colab": {}
      },
      "source": [
        "from sklearn.naive_bayes import MultinomialNB,ComplementNB\n",
        "from sklearn.model_selection import GridSearchCV\n",
        "parameters = {'alpha': np.linspace(0,5, num=1000)}\n",
        "tfidf_MultinomialNB = MultinomialNB()\n",
        "clf_tfidf_MultinomialNB = GridSearchCV(tfidf_MultinomialNB, parameters,verbose=1,cv=10,n_jobs=-1)"
      ],
      "execution_count": 0,
      "outputs": []
    },
    {
      "cell_type": "code",
      "metadata": {
        "colab_type": "code",
        "outputId": "55b792b5-6cf4-426b-f8b7-fd780723dd09",
        "id": "SNjTv7j2BZh_",
        "colab": {
          "base_uri": "https://localhost:8080/",
          "height": 151
        }
      },
      "source": [
        "#TRAIN\n",
        "clf_tfidf_MultinomialNB.fit(X_train,y_train)\n",
        "#SAVE\n",
        "import pickle\n",
        "filename = 'tfidf_MultinomialNB_model.sav'\n",
        "pickle.dump(clf_tfidf_MultinomialNB, open(filename, 'wb'))"
      ],
      "execution_count": 0,
      "outputs": [
        {
          "output_type": "stream",
          "text": [
            "[Parallel(n_jobs=-1)]: Using backend LokyBackend with 2 concurrent workers.\n"
          ],
          "name": "stderr"
        },
        {
          "output_type": "stream",
          "text": [
            "Fitting 10 folds for each of 1000 candidates, totalling 10000 fits\n"
          ],
          "name": "stdout"
        },
        {
          "output_type": "stream",
          "text": [
            "[Parallel(n_jobs=-1)]: Done 300 tasks      | elapsed:    3.4s\n",
            "[Parallel(n_jobs=-1)]: Done 1500 tasks      | elapsed:   16.7s\n",
            "[Parallel(n_jobs=-1)]: Done 3500 tasks      | elapsed:   38.0s\n",
            "[Parallel(n_jobs=-1)]: Done 6300 tasks      | elapsed:  1.1min\n",
            "[Parallel(n_jobs=-1)]: Done 9900 tasks      | elapsed:  1.8min\n",
            "[Parallel(n_jobs=-1)]: Done 10000 out of 10000 | elapsed:  1.8min finished\n"
          ],
          "name": "stderr"
        }
      ]
    },
    {
      "cell_type": "code",
      "metadata": {
        "colab_type": "code",
        "outputId": "713568b3-d96e-4f76-a015-17a61f08d1a5",
        "id": "KkZE-v3_BZiE",
        "colab": {
          "base_uri": "https://localhost:8080/",
          "height": 50
        }
      },
      "source": [
        "#VALIDATION SCORE\n",
        "best_params = clf_tfidf_MultinomialNB.best_params_\n",
        "val_score = clf_tfidf_MultinomialNB.best_score_\n",
        "print(best_params)\n",
        "print(\"VALIDATION SCORE =\",val_score)"
      ],
      "execution_count": 0,
      "outputs": [
        {
          "output_type": "stream",
          "text": [
            "{'alpha': 0.34034034034034033}\n",
            "VALIDATION SCORE = 0.6018487394957983\n"
          ],
          "name": "stdout"
        }
      ]
    },
    {
      "cell_type": "code",
      "metadata": {
        "colab_type": "code",
        "outputId": "9c4ca843-bd10-4556-b243-489650cce3c6",
        "id": "jmmQAZLgBZiQ",
        "colab": {
          "base_uri": "https://localhost:8080/",
          "height": 218
        }
      },
      "source": [
        "#TEST SCORE \n",
        "from sklearn.metrics import classification_report, confusion_matrix, accuracy_score  \n",
        "clf_predictions = clf_tfidf_MultinomialNB.predict(X_test)\n",
        "print(confusion_matrix(y_test,clf_predictions))\n",
        "print(classification_report(y_test,clf_predictions))\n",
        "print(accuracy_score(y_test,clf_predictions))"
      ],
      "execution_count": 0,
      "outputs": [
        {
          "output_type": "stream",
          "text": [
            "[[40  4]\n",
            " [29  4]]\n",
            "              precision    recall  f1-score   support\n",
            "\n",
            "           0       0.58      0.91      0.71        44\n",
            "           1       0.50      0.12      0.20        33\n",
            "\n",
            "    accuracy                           0.57        77\n",
            "   macro avg       0.54      0.52      0.45        77\n",
            "weighted avg       0.55      0.57      0.49        77\n",
            "\n",
            "0.5714285714285714\n"
          ],
          "name": "stdout"
        }
      ]
    },
    {
      "cell_type": "markdown",
      "metadata": {
        "id": "DAU8XQjlwZ57",
        "colab_type": "text"
      },
      "source": [
        "\n",
        "\n",
        "---\n",
        "\n",
        "\n",
        "\n",
        "**SVC (SVM)**\n",
        "\n",
        "---\n",
        "\n"
      ]
    },
    {
      "cell_type": "code",
      "metadata": {
        "id": "Yx6AGS5Vf-tD",
        "colab_type": "code",
        "colab": {}
      },
      "source": [
        "from sklearn.svm import SVC\n",
        "from sklearn.model_selection import GridSearchCV\n",
        "parameters = {'kernel':('rbf','poly','sigmoid'), 'gamma':np.arange(1e-4,1e-2,0.002),'C':range(1,100)}\n",
        "tfidf_svc = SVC()\n",
        "clf_tfidf_svc = GridSearchCV(tfidf_svc, parameters,verbose=1,cv=10,n_jobs=-1)"
      ],
      "execution_count": 0,
      "outputs": []
    },
    {
      "cell_type": "code",
      "metadata": {
        "id": "BmDvJNfogEHH",
        "colab_type": "code",
        "outputId": "a5a48be8-17dd-457e-9131-31583a332ca2",
        "colab": {
          "base_uri": "https://localhost:8080/",
          "height": 50
        }
      },
      "source": [
        "clf_tfidf_svc.fit(X_train_reduced,y_train)\n",
        "filename = 'svc_tfidf_model.sav'\n",
        "pickle.dump(clf_tfidf_svc, open(filename, 'wb'))"
      ],
      "execution_count": 0,
      "outputs": [
        {
          "output_type": "stream",
          "text": [
            "[Parallel(n_jobs=-1)]: Using backend LokyBackend with 2 concurrent workers.\n"
          ],
          "name": "stderr"
        },
        {
          "output_type": "stream",
          "text": [
            "Fitting 10 folds for each of 1485 candidates, totalling 14850 fits\n"
          ],
          "name": "stdout"
        }
      ]
    },
    {
      "cell_type": "code",
      "metadata": {
        "id": "2LH6MAJ1gHdm",
        "colab_type": "code",
        "colab": {}
      },
      "source": [
        "#VALIDATION SCORE\n",
        "best_params = clf_tfidf_svc.best_params_\n",
        "val_score = clf_tfidf_svc.best_score_\n",
        "print(best_params)\n",
        "print(\"VALIDATION SCORE =\",val_score)"
      ],
      "execution_count": 0,
      "outputs": []
    },
    {
      "cell_type": "code",
      "metadata": {
        "id": "DmVfXYcDgLN4",
        "colab_type": "code",
        "colab": {}
      },
      "source": [
        "#TEST SCORE \n",
        "from sklearn.metrics import classification_report, confusion_matrix, accuracy_score  \n",
        "clf_predictions = clf_tfidf_svc.predict(X_test_reduced)\n",
        "print(confusion_matrix(y_test,clf_predictions))\n",
        "print(classification_report(y_test,clf_predictions))\n",
        "print(accuracy_score(y_test,clf_predictions))"
      ],
      "execution_count": 0,
      "outputs": []
    },
    {
      "cell_type": "markdown",
      "metadata": {
        "id": "weRieCJofKIa",
        "colab_type": "text"
      },
      "source": [
        "\n",
        "\n",
        "---\n",
        "\n",
        "\n",
        "**RANDOM FOREST**\n",
        "\n",
        "---\n",
        "\n"
      ]
    },
    {
      "cell_type": "code",
      "metadata": {
        "id": "UL2CHOIoctFr",
        "colab_type": "code",
        "colab": {}
      },
      "source": [
        "from sklearn.ensemble import RandomForestClassifier\n",
        "n_estimators = [int(x) for x in np.linspace(start = 200, stop = 2000, num = 3)]\n",
        "max_features = ['auto', 'sqrt']\n",
        "max_depth = [int(x) for x in np.linspace(10, 110, num = 3)]\n",
        "max_depth.append(None)\n",
        "min_samples_split = [2, 5]\n",
        "min_samples_leaf = [1, 2]\n",
        "bootstrap = [True, False]\n",
        "\n",
        "random_grid = {'n_estimators': n_estimators,\n",
        "               'max_features': max_features,\n",
        "               'max_depth': max_depth,\n",
        "               'min_samples_split': min_samples_split,\n",
        "               'min_samples_leaf': min_samples_leaf,\n",
        "               'bootstrap': bootstrap}\n",
        "print(random_grid)\n",
        "\n",
        "rf = RandomForestClassifier()\n",
        "clf = GridSearchCV(rf, random_grid, cv = 5, verbose=1, n_jobs = -1)"
      ],
      "execution_count": 0,
      "outputs": []
    },
    {
      "cell_type": "code",
      "metadata": {
        "id": "OXX0jLuYe2y8",
        "colab_type": "code",
        "colab": {}
      },
      "source": [
        "\n",
        "clf.fit(X_train_reduced,y_train)\n",
        "cv_results = clf.cv_results_\n"
      ],
      "execution_count": 0,
      "outputs": []
    },
    {
      "cell_type": "code",
      "metadata": {
        "id": "BV7n61InfAtC",
        "colab_type": "code",
        "colab": {}
      },
      "source": [
        "best_params = clf.best_params_\n",
        "print(clf.best_estimator_)\n",
        "print(best_params)\n",
        "print(clf.best_score_)\n",
        "best_clf = RandomForestClassifier(n_estimators=best_params['n_estimators'], max_features=best_params['max_features'], min_samples_split=best_params['min_samples_split'], min_samples_leaf=best_params['min_samples_leaf'], bootstrap=best_params['bootstrap'])\n",
        "scores = cross_val_score(best_clf, X_train_reduced, y_train, cv=5)\n",
        "print(scores.mean())"
      ],
      "execution_count": 0,
      "outputs": []
    },
    {
      "cell_type": "code",
      "metadata": {
        "id": "Xw0e8xyEfMz1",
        "colab_type": "code",
        "colab": {}
      },
      "source": [
        "from sklearn.metrics import classification_report, confusion_matrix, accuracy_score  \n",
        "clf_predictions = clf.predict(X_test_reduced)\n",
        "print(confusion_matrix(y_test,clf_predictions))\n",
        "print(classification_report(y_test,clf_predictions))\n",
        "print(accuracy_score(y_test,clf_predictions))"
      ],
      "execution_count": 0,
      "outputs": []
    },
    {
      "cell_type": "markdown",
      "metadata": {
        "id": "l8zwUak18rTq",
        "colab_type": "text"
      },
      "source": [
        "\n",
        "\n",
        "\n",
        "---\n",
        "\n",
        "\n",
        "**LOGISTIC REGRESSION**\n",
        "\n",
        "\n",
        "---\n",
        "\n"
      ]
    },
    {
      "cell_type": "code",
      "metadata": {
        "id": "VZccSrFZrdrZ",
        "colab_type": "code",
        "colab": {}
      },
      "source": [
        "from sklearn.linear_model import LogisticRegression\n",
        "hyperparameters = {'penalty':('l1', 'l2'), 'C':np.logspace(0, 4, 100), 'fit_intercept':(True, False), 'class_weight':(None, 'balanced')}\n",
        "logistic = LogisticRegression(solver = 'liblinear',max_iter=2000)\n",
        "clf = GridSearchCV(logistic, hyperparameters, cv=5, verbose=1,n_jobs=-1)"
      ],
      "execution_count": 0,
      "outputs": []
    },
    {
      "cell_type": "code",
      "metadata": {
        "id": "-ZwTzSt_rlc7",
        "colab_type": "code",
        "colab": {}
      },
      "source": [
        "clf.fit(X_train_reduced,y_train)\n",
        "cv_results = clf.cv_results_\n",
        "best_params = clf.best_params_\n",
        "print(clf.best_estimator_)\n",
        "print(best_params)\n",
        "print(clf.best_score_)"
      ],
      "execution_count": 0,
      "outputs": []
    },
    {
      "cell_type": "code",
      "metadata": {
        "id": "7dQCMNtf30K7",
        "colab_type": "code",
        "colab": {}
      },
      "source": [
        "from sklearn.metrics import classification_report, confusion_matrix, accuracy_score  \n",
        "clf_predictions = clf.predict(X_test_reduced)\n",
        "print(confusion_matrix(y_test,clf_predictions))\n",
        "print(classification_report(y_test,clf_predictions))\n",
        "print(accuracy_score(y_test,clf_predictions))"
      ],
      "execution_count": 0,
      "outputs": []
    },
    {
      "cell_type": "code",
      "metadata": {
        "id": "rdZuNU2nWAxS",
        "colab_type": "code",
        "colab": {}
      },
      "source": [
        ""
      ],
      "execution_count": 0,
      "outputs": []
    }
  ]
}