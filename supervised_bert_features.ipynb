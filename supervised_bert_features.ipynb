{
  "nbformat": 4,
  "nbformat_minor": 0,
  "metadata": {
    "colab": {
      "name": "supervised_bert_features.ipynb",
      "provenance": [],
      "collapsed_sections": []
    },
    "kernelspec": {
      "name": "python3",
      "display_name": "Python 3"
    }
  },
  "cells": [
    {
      "cell_type": "code",
      "metadata": {
        "id": "vJiAZoCACNj_",
        "colab_type": "code",
        "outputId": "4d368fa6-3a9f-40e8-922b-91502c2a9ed0",
        "colab": {
          "base_uri": "https://localhost:8080/",
          "height": 34
        }
      },
      "source": [
        "from google.colab import drive\n",
        "drive.mount('/content/drive')"
      ],
      "execution_count": 0,
      "outputs": [
        {
          "output_type": "stream",
          "text": [
            "Drive already mounted at /content/drive; to attempt to forcibly remount, call drive.mount(\"/content/drive\", force_remount=True).\n"
          ],
          "name": "stdout"
        }
      ]
    },
    {
      "cell_type": "markdown",
      "metadata": {
        "id": "QSwzHPmQHPWq",
        "colab_type": "text"
      },
      "source": [
        "# ENV SETUP AND DATA LOADING"
      ]
    },
    {
      "cell_type": "code",
      "metadata": {
        "id": "ISsCnqrllFrH",
        "colab_type": "code",
        "colab": {}
      },
      "source": [
        "import pandas as pd\n",
        "import numpy as np\n",
        "from sklearn.decomposition import PCA\n",
        "from sklearn.preprocessing import StandardScaler\n",
        "from sklearn.model_selection import cross_validate\n",
        "from sklearn.model_selection import cross_val_score\n",
        "from sklearn.model_selection import GridSearchCV\n",
        "from sklearn.metrics import classification_report, confusion_matrix\n",
        "from sklearn import svm\n",
        "from sklearn.svm import SVC"
      ],
      "execution_count": 0,
      "outputs": []
    },
    {
      "cell_type": "code",
      "metadata": {
        "id": "nKJ5EGJQ-nO8",
        "colab_type": "code",
        "colab": {}
      },
      "source": [
        "train_data = pd.read_csv(\"/content/drive/My Drive/Shravani_Spring2020/paper_data_train.csv\")\n",
        "val_data = pd.read_csv(\"/content/drive/My Drive/Shravani_Spring2020/paper_data_dev.csv\")\n",
        "test_data = pd.read_csv(\"/content/drive/My Drive/Shravani_Spring2020/paper_data_test.csv\")"
      ],
      "execution_count": 0,
      "outputs": []
    },
    {
      "cell_type": "code",
      "metadata": {
        "id": "O_aSGaILDfii",
        "colab_type": "code",
        "outputId": "8c6dc83d-0216-463e-e403-e21a88c868bc",
        "colab": {
          "base_uri": "https://localhost:8080/",
          "height": 313
        }
      },
      "source": [
        "train_data.head()"
      ],
      "execution_count": 0,
      "outputs": [
        {
          "output_type": "execute_result",
          "data": {
            "text/html": [
              "<div>\n",
              "<style scoped>\n",
              "    .dataframe tbody tr th:only-of-type {\n",
              "        vertical-align: middle;\n",
              "    }\n",
              "\n",
              "    .dataframe tbody tr th {\n",
              "        vertical-align: top;\n",
              "    }\n",
              "\n",
              "    .dataframe thead th {\n",
              "        text-align: right;\n",
              "    }\n",
              "</style>\n",
              "<table border=\"1\" class=\"dataframe\">\n",
              "  <thead>\n",
              "    <tr style=\"text-align: right;\">\n",
              "      <th></th>\n",
              "      <th>paper_id</th>\n",
              "      <th>feature_extraction_encoding</th>\n",
              "      <th>tfidf_encoding</th>\n",
              "      <th>words_from_top_200_title</th>\n",
              "      <th>abstract_length</th>\n",
              "      <th>abstract_complexity</th>\n",
              "      <th>abstract_novelty</th>\n",
              "      <th>number_of_authors</th>\n",
              "      <th>research_strength_score</th>\n",
              "      <th>num_of_references</th>\n",
              "      <th>most_recent_ref_year</th>\n",
              "      <th>avg_len_of_ref_mention</th>\n",
              "      <th>num_of_recent_references</th>\n",
              "      <th>contains_githib_link</th>\n",
              "      <th>contains_appendix</th>\n",
              "      <th>number_of_sections</th>\n",
              "      <th>content_complexity</th>\n",
              "      <th>number_of_unique_words</th>\n",
              "      <th>accepted</th>\n",
              "    </tr>\n",
              "  </thead>\n",
              "  <tbody>\n",
              "    <tr>\n",
              "      <th>0</th>\n",
              "      <td>304.pdf</td>\n",
              "      <td>[0.4441553056240082, -0.0031148958951234818, 0...</td>\n",
              "      <td>[0. 0. 0. ... 0. 0. 0.]</td>\n",
              "      <td>True</td>\n",
              "      <td>136</td>\n",
              "      <td>8.265020</td>\n",
              "      <td>False</td>\n",
              "      <td>3</td>\n",
              "      <td>6.0</td>\n",
              "      <td>6</td>\n",
              "      <td>2016</td>\n",
              "      <td>90.833333</td>\n",
              "      <td>6</td>\n",
              "      <td>False</td>\n",
              "      <td>True</td>\n",
              "      <td>30</td>\n",
              "      <td>3.634356</td>\n",
              "      <td>55</td>\n",
              "      <td>True</td>\n",
              "    </tr>\n",
              "    <tr>\n",
              "      <th>1</th>\n",
              "      <td>305.pdf</td>\n",
              "      <td>[0.3867203891277313, -0.06180678680539131, -0....</td>\n",
              "      <td>[0. 0. 0. ... 0. 0. 0.]</td>\n",
              "      <td>True</td>\n",
              "      <td>198</td>\n",
              "      <td>9.676772</td>\n",
              "      <td>False</td>\n",
              "      <td>2</td>\n",
              "      <td>6.0</td>\n",
              "      <td>26</td>\n",
              "      <td>2016</td>\n",
              "      <td>0.000000</td>\n",
              "      <td>9</td>\n",
              "      <td>False</td>\n",
              "      <td>True</td>\n",
              "      <td>11</td>\n",
              "      <td>3.984653</td>\n",
              "      <td>69</td>\n",
              "      <td>True</td>\n",
              "    </tr>\n",
              "    <tr>\n",
              "      <th>2</th>\n",
              "      <td>306.pdf</td>\n",
              "      <td>[0.44596463441848755, -0.02526075765490532, 0....</td>\n",
              "      <td>[0. 0. 0. ... 0. 0. 0.]</td>\n",
              "      <td>True</td>\n",
              "      <td>140</td>\n",
              "      <td>7.654289</td>\n",
              "      <td>False</td>\n",
              "      <td>3</td>\n",
              "      <td>6.0</td>\n",
              "      <td>30</td>\n",
              "      <td>2016</td>\n",
              "      <td>109.228571</td>\n",
              "      <td>15</td>\n",
              "      <td>True</td>\n",
              "      <td>False</td>\n",
              "      <td>17</td>\n",
              "      <td>4.157808</td>\n",
              "      <td>52</td>\n",
              "      <td>True</td>\n",
              "    </tr>\n",
              "    <tr>\n",
              "      <th>3</th>\n",
              "      <td>307.pdf</td>\n",
              "      <td>[0.3993099629878998, 0.005023505538702011, -0....</td>\n",
              "      <td>[0. 0. 0. ... 0. 0. 0.]</td>\n",
              "      <td>False</td>\n",
              "      <td>163</td>\n",
              "      <td>8.715491</td>\n",
              "      <td>False</td>\n",
              "      <td>2</td>\n",
              "      <td>6.0</td>\n",
              "      <td>34</td>\n",
              "      <td>2016</td>\n",
              "      <td>42.326531</td>\n",
              "      <td>22</td>\n",
              "      <td>False</td>\n",
              "      <td>True</td>\n",
              "      <td>21</td>\n",
              "      <td>4.365226</td>\n",
              "      <td>49</td>\n",
              "      <td>True</td>\n",
              "    </tr>\n",
              "    <tr>\n",
              "      <th>4</th>\n",
              "      <td>308.pdf</td>\n",
              "      <td>[0.38344770669937134, -0.032056376338005066, -...</td>\n",
              "      <td>[0. 0. 0. ... 0. 0. 0.]</td>\n",
              "      <td>True</td>\n",
              "      <td>110</td>\n",
              "      <td>7.268245</td>\n",
              "      <td>False</td>\n",
              "      <td>2</td>\n",
              "      <td>6.0</td>\n",
              "      <td>13</td>\n",
              "      <td>2016</td>\n",
              "      <td>59.066667</td>\n",
              "      <td>9</td>\n",
              "      <td>False</td>\n",
              "      <td>True</td>\n",
              "      <td>10</td>\n",
              "      <td>3.705192</td>\n",
              "      <td>74</td>\n",
              "      <td>True</td>\n",
              "    </tr>\n",
              "  </tbody>\n",
              "</table>\n",
              "</div>"
            ],
            "text/plain": [
              "  paper_id  ... accepted\n",
              "0  304.pdf  ...     True\n",
              "1  305.pdf  ...     True\n",
              "2  306.pdf  ...     True\n",
              "3  307.pdf  ...     True\n",
              "4  308.pdf  ...     True\n",
              "\n",
              "[5 rows x 19 columns]"
            ]
          },
          "metadata": {
            "tags": []
          },
          "execution_count": 5
        }
      ]
    },
    {
      "cell_type": "code",
      "metadata": {
        "id": "CpewhaaICfpU",
        "colab_type": "code",
        "outputId": "28df29ca-43ad-4101-b721-4c69b03a32af",
        "colab": {
          "base_uri": "https://localhost:8080/",
          "height": 241
        }
      },
      "source": [
        "final_train = train_data\n",
        "final_test = pd.concat([val_data, test_data], ignore_index=True)\n",
        "\n",
        "Bert_train = final_train.iloc[0:, [0,1,18]]\n",
        "print(Bert_train.shape)\n",
        "Bert_train.head()\n",
        "\n",
        "Bert_test = final_test.iloc[0:, [0,1,18]]\n",
        "print(Bert_test.shape)\n",
        "Bert_test.head()"
      ],
      "execution_count": 0,
      "outputs": [
        {
          "output_type": "stream",
          "text": [
            "(349, 3)\n",
            "(77, 3)\n"
          ],
          "name": "stdout"
        },
        {
          "output_type": "execute_result",
          "data": {
            "text/html": [
              "<div>\n",
              "<style scoped>\n",
              "    .dataframe tbody tr th:only-of-type {\n",
              "        vertical-align: middle;\n",
              "    }\n",
              "\n",
              "    .dataframe tbody tr th {\n",
              "        vertical-align: top;\n",
              "    }\n",
              "\n",
              "    .dataframe thead th {\n",
              "        text-align: right;\n",
              "    }\n",
              "</style>\n",
              "<table border=\"1\" class=\"dataframe\">\n",
              "  <thead>\n",
              "    <tr style=\"text-align: right;\">\n",
              "      <th></th>\n",
              "      <th>paper_id</th>\n",
              "      <th>feature_extraction_encoding</th>\n",
              "      <th>accepted</th>\n",
              "    </tr>\n",
              "  </thead>\n",
              "  <tbody>\n",
              "    <tr>\n",
              "      <th>0</th>\n",
              "      <td>316.pdf</td>\n",
              "      <td>[0.3783118724822998, -0.056981366127729416, -0...</td>\n",
              "      <td>True</td>\n",
              "    </tr>\n",
              "    <tr>\n",
              "      <th>1</th>\n",
              "      <td>325.pdf</td>\n",
              "      <td>[0.40649187564849854, -0.03665460646152496, -0...</td>\n",
              "      <td>True</td>\n",
              "    </tr>\n",
              "    <tr>\n",
              "      <th>2</th>\n",
              "      <td>328.pdf</td>\n",
              "      <td>[0.48881033062934875, -0.07407109439373016, -0...</td>\n",
              "      <td>True</td>\n",
              "    </tr>\n",
              "    <tr>\n",
              "      <th>3</th>\n",
              "      <td>340.pdf</td>\n",
              "      <td>[0.45297518372535706, -0.05653221160173416, 0....</td>\n",
              "      <td>True</td>\n",
              "    </tr>\n",
              "    <tr>\n",
              "      <th>4</th>\n",
              "      <td>350.pdf</td>\n",
              "      <td>[0.43022093176841736, -0.07531613111495972, -0...</td>\n",
              "      <td>True</td>\n",
              "    </tr>\n",
              "  </tbody>\n",
              "</table>\n",
              "</div>"
            ],
            "text/plain": [
              "  paper_id                        feature_extraction_encoding  accepted\n",
              "0  316.pdf  [0.3783118724822998, -0.056981366127729416, -0...      True\n",
              "1  325.pdf  [0.40649187564849854, -0.03665460646152496, -0...      True\n",
              "2  328.pdf  [0.48881033062934875, -0.07407109439373016, -0...      True\n",
              "3  340.pdf  [0.45297518372535706, -0.05653221160173416, 0....      True\n",
              "4  350.pdf  [0.43022093176841736, -0.07531613111495972, -0...      True"
            ]
          },
          "metadata": {
            "tags": []
          },
          "execution_count": 12
        }
      ]
    },
    {
      "cell_type": "markdown",
      "metadata": {
        "id": "kCFrRC0fHVjP",
        "colab_type": "text"
      },
      "source": [
        "# DATA CLEANING"
      ]
    },
    {
      "cell_type": "code",
      "metadata": {
        "id": "KITJQw72-xMs",
        "colab_type": "code",
        "colab": {}
      },
      "source": [
        " def create_array(vect_temp):\n",
        "  n = len(vect_temp)\n",
        "  vect_list = []\n",
        "\n",
        "  i = 1 \n",
        "  while(i<(n-1)):\n",
        "    str_temp = \"\"\n",
        "    while(i<(n-1) and vect_temp[i]!=','):\n",
        "      str_temp = str_temp + vect_temp[i]\n",
        "      i = i+1\n",
        "    vect_list.append(float(str_temp))\n",
        "    i = i+2\n",
        "  return np.array(vect_list)\n",
        "\n",
        "rows, cols = Bert_train.shape\n",
        "features_array = np.random.randn(rows, 768)\n",
        "for i in range(0, rows):\n",
        "  features_array[i] = create_array(Bert_train.iloc[i,1])\n",
        "\n",
        "std_scale = StandardScaler()\n",
        "std_scale.fit(train)\n",
        "train = pd.DataFrame(data=features_array)\n",
        "train = std_scale.transform(train)\n",
        "\n",
        "rows, cols = Bert_test.shape\n",
        "features_array = np.random.randn(rows, 768)\n",
        "for i in range(0, rows):\n",
        "  features_array[i] = create_array(Bert_test.iloc[i,1])\n",
        "\n",
        "test = pd.DataFrame(data=features_array)\n",
        "test = std_scale.transform(test)"
      ],
      "execution_count": 0,
      "outputs": []
    },
    {
      "cell_type": "markdown",
      "metadata": {
        "id": "4HQlur4fHKC9",
        "colab_type": "text"
      },
      "source": [
        "# PCA\n"
      ]
    },
    {
      "cell_type": "code",
      "metadata": {
        "id": "kzddGCYFG3CL",
        "colab_type": "code",
        "outputId": "09dd12cb-7307-4bc6-b58d-e7227412c33d",
        "colab": {
          "base_uri": "https://localhost:8080/",
          "height": 261
        }
      },
      "source": [
        "pca = PCA(n_components=100)\n",
        "pca_applied_data = pca.fit_transform(train)\n",
        "var_ratio = pca.explained_variance_ratio_\n",
        "i = 0\n",
        "variance = 0\n",
        "for ele in var_ratio:\n",
        "  variance = variance + ele\n",
        "  i = i+1\n",
        "  if(variance>=0.85):\n",
        "    break\n",
        "num_components = i\n",
        "print(num_components)\n",
        "\n",
        "pca = PCA(n_components=num_components)\n",
        "pca.fit(train)\n",
        "pca_applied_data = pca.transform(train)\n",
        "pca_applied_data = pd.DataFrame(data = pca_applied_data)\n",
        "pca_applied_data['paper_id'] = Bert_train['paper_id']\n",
        "pca_applied_data['accepted'] = Bert_train['accepted']\n",
        "pca_applied_data = pca_applied_data[ ['paper_id'] + [ col for col in pca_applied_data.columns if col != 'paper_id' ] ]\n",
        "print(pca_applied_data.shape)\n",
        "train_fin = pca_applied_data\n",
        "train_fin.head()"
      ],
      "execution_count": 0,
      "outputs": [
        {
          "output_type": "stream",
          "text": [
            "58\n",
            "(349, 60)\n"
          ],
          "name": "stdout"
        },
        {
          "output_type": "execute_result",
          "data": {
            "text/html": [
              "<div>\n",
              "<style scoped>\n",
              "    .dataframe tbody tr th:only-of-type {\n",
              "        vertical-align: middle;\n",
              "    }\n",
              "\n",
              "    .dataframe tbody tr th {\n",
              "        vertical-align: top;\n",
              "    }\n",
              "\n",
              "    .dataframe thead th {\n",
              "        text-align: right;\n",
              "    }\n",
              "</style>\n",
              "<table border=\"1\" class=\"dataframe\">\n",
              "  <thead>\n",
              "    <tr style=\"text-align: right;\">\n",
              "      <th></th>\n",
              "      <th>paper_id</th>\n",
              "      <th>0</th>\n",
              "      <th>1</th>\n",
              "      <th>2</th>\n",
              "      <th>3</th>\n",
              "      <th>4</th>\n",
              "      <th>5</th>\n",
              "      <th>6</th>\n",
              "      <th>7</th>\n",
              "      <th>8</th>\n",
              "      <th>9</th>\n",
              "      <th>10</th>\n",
              "      <th>11</th>\n",
              "      <th>12</th>\n",
              "      <th>13</th>\n",
              "      <th>14</th>\n",
              "      <th>15</th>\n",
              "      <th>16</th>\n",
              "      <th>17</th>\n",
              "      <th>18</th>\n",
              "      <th>19</th>\n",
              "      <th>20</th>\n",
              "      <th>21</th>\n",
              "      <th>22</th>\n",
              "      <th>23</th>\n",
              "      <th>24</th>\n",
              "      <th>25</th>\n",
              "      <th>26</th>\n",
              "      <th>27</th>\n",
              "      <th>28</th>\n",
              "      <th>29</th>\n",
              "      <th>30</th>\n",
              "      <th>31</th>\n",
              "      <th>32</th>\n",
              "      <th>33</th>\n",
              "      <th>34</th>\n",
              "      <th>35</th>\n",
              "      <th>36</th>\n",
              "      <th>37</th>\n",
              "      <th>38</th>\n",
              "      <th>39</th>\n",
              "      <th>40</th>\n",
              "      <th>41</th>\n",
              "      <th>42</th>\n",
              "      <th>43</th>\n",
              "      <th>44</th>\n",
              "      <th>45</th>\n",
              "      <th>46</th>\n",
              "      <th>47</th>\n",
              "      <th>48</th>\n",
              "      <th>49</th>\n",
              "      <th>50</th>\n",
              "      <th>51</th>\n",
              "      <th>52</th>\n",
              "      <th>53</th>\n",
              "      <th>54</th>\n",
              "      <th>55</th>\n",
              "      <th>56</th>\n",
              "      <th>57</th>\n",
              "      <th>accepted</th>\n",
              "    </tr>\n",
              "  </thead>\n",
              "  <tbody>\n",
              "    <tr>\n",
              "      <th>0</th>\n",
              "      <td>304.pdf</td>\n",
              "      <td>-0.489618</td>\n",
              "      <td>0.406951</td>\n",
              "      <td>0.108147</td>\n",
              "      <td>-0.494787</td>\n",
              "      <td>0.312913</td>\n",
              "      <td>-0.104312</td>\n",
              "      <td>-0.131605</td>\n",
              "      <td>-0.046343</td>\n",
              "      <td>-0.057730</td>\n",
              "      <td>-0.098981</td>\n",
              "      <td>-0.089312</td>\n",
              "      <td>0.067608</td>\n",
              "      <td>0.021561</td>\n",
              "      <td>0.173068</td>\n",
              "      <td>-0.209186</td>\n",
              "      <td>0.098829</td>\n",
              "      <td>0.051589</td>\n",
              "      <td>0.048590</td>\n",
              "      <td>-0.125695</td>\n",
              "      <td>0.066237</td>\n",
              "      <td>-0.091488</td>\n",
              "      <td>0.161334</td>\n",
              "      <td>-0.005657</td>\n",
              "      <td>0.135435</td>\n",
              "      <td>-0.239990</td>\n",
              "      <td>-0.085156</td>\n",
              "      <td>0.037571</td>\n",
              "      <td>-0.012726</td>\n",
              "      <td>-0.040703</td>\n",
              "      <td>-0.057740</td>\n",
              "      <td>0.071686</td>\n",
              "      <td>0.196778</td>\n",
              "      <td>-0.029044</td>\n",
              "      <td>-0.128377</td>\n",
              "      <td>0.068986</td>\n",
              "      <td>0.078896</td>\n",
              "      <td>-0.012805</td>\n",
              "      <td>0.003871</td>\n",
              "      <td>0.069942</td>\n",
              "      <td>0.115580</td>\n",
              "      <td>0.126654</td>\n",
              "      <td>0.020430</td>\n",
              "      <td>-0.001081</td>\n",
              "      <td>-0.203653</td>\n",
              "      <td>0.077921</td>\n",
              "      <td>0.064951</td>\n",
              "      <td>0.047060</td>\n",
              "      <td>-0.060554</td>\n",
              "      <td>-0.072327</td>\n",
              "      <td>-0.034392</td>\n",
              "      <td>0.041019</td>\n",
              "      <td>0.074672</td>\n",
              "      <td>-0.016338</td>\n",
              "      <td>0.014041</td>\n",
              "      <td>-0.011635</td>\n",
              "      <td>-0.054393</td>\n",
              "      <td>-0.040229</td>\n",
              "      <td>0.144672</td>\n",
              "      <td>True</td>\n",
              "    </tr>\n",
              "    <tr>\n",
              "      <th>1</th>\n",
              "      <td>305.pdf</td>\n",
              "      <td>-0.378550</td>\n",
              "      <td>-0.026607</td>\n",
              "      <td>-0.106479</td>\n",
              "      <td>0.405655</td>\n",
              "      <td>-0.015566</td>\n",
              "      <td>-0.379956</td>\n",
              "      <td>0.732278</td>\n",
              "      <td>0.131338</td>\n",
              "      <td>0.063697</td>\n",
              "      <td>-0.168602</td>\n",
              "      <td>0.530730</td>\n",
              "      <td>-0.230830</td>\n",
              "      <td>0.032055</td>\n",
              "      <td>0.093967</td>\n",
              "      <td>0.024321</td>\n",
              "      <td>0.049651</td>\n",
              "      <td>-0.150732</td>\n",
              "      <td>-0.079939</td>\n",
              "      <td>0.103880</td>\n",
              "      <td>0.034910</td>\n",
              "      <td>0.075850</td>\n",
              "      <td>-0.052561</td>\n",
              "      <td>0.044229</td>\n",
              "      <td>-0.008038</td>\n",
              "      <td>-0.356320</td>\n",
              "      <td>-0.091554</td>\n",
              "      <td>-0.277797</td>\n",
              "      <td>0.152613</td>\n",
              "      <td>0.086939</td>\n",
              "      <td>0.064822</td>\n",
              "      <td>-0.074697</td>\n",
              "      <td>0.055563</td>\n",
              "      <td>0.031447</td>\n",
              "      <td>-0.071316</td>\n",
              "      <td>0.076583</td>\n",
              "      <td>-0.161799</td>\n",
              "      <td>-0.082838</td>\n",
              "      <td>0.048151</td>\n",
              "      <td>-0.104514</td>\n",
              "      <td>0.094656</td>\n",
              "      <td>-0.048806</td>\n",
              "      <td>0.133407</td>\n",
              "      <td>0.054731</td>\n",
              "      <td>0.056248</td>\n",
              "      <td>-0.180331</td>\n",
              "      <td>-0.040080</td>\n",
              "      <td>-0.015247</td>\n",
              "      <td>-0.185876</td>\n",
              "      <td>-0.008931</td>\n",
              "      <td>0.144942</td>\n",
              "      <td>0.020739</td>\n",
              "      <td>-0.011923</td>\n",
              "      <td>0.181094</td>\n",
              "      <td>0.036180</td>\n",
              "      <td>-0.067828</td>\n",
              "      <td>-0.057973</td>\n",
              "      <td>0.099567</td>\n",
              "      <td>0.103073</td>\n",
              "      <td>True</td>\n",
              "    </tr>\n",
              "    <tr>\n",
              "      <th>2</th>\n",
              "      <td>306.pdf</td>\n",
              "      <td>-0.162822</td>\n",
              "      <td>0.438935</td>\n",
              "      <td>0.149523</td>\n",
              "      <td>-0.355504</td>\n",
              "      <td>-0.164261</td>\n",
              "      <td>-0.293920</td>\n",
              "      <td>-0.411408</td>\n",
              "      <td>0.241587</td>\n",
              "      <td>-0.196282</td>\n",
              "      <td>-0.017565</td>\n",
              "      <td>-0.171787</td>\n",
              "      <td>-0.237339</td>\n",
              "      <td>0.035848</td>\n",
              "      <td>-0.238706</td>\n",
              "      <td>-0.032769</td>\n",
              "      <td>0.150227</td>\n",
              "      <td>0.160866</td>\n",
              "      <td>0.067308</td>\n",
              "      <td>0.089503</td>\n",
              "      <td>0.070091</td>\n",
              "      <td>-0.032328</td>\n",
              "      <td>-0.070713</td>\n",
              "      <td>0.116288</td>\n",
              "      <td>-0.173776</td>\n",
              "      <td>-0.027946</td>\n",
              "      <td>0.088962</td>\n",
              "      <td>0.095348</td>\n",
              "      <td>-0.233426</td>\n",
              "      <td>-0.002761</td>\n",
              "      <td>0.099379</td>\n",
              "      <td>-0.015706</td>\n",
              "      <td>0.126099</td>\n",
              "      <td>0.047256</td>\n",
              "      <td>0.008970</td>\n",
              "      <td>-0.033481</td>\n",
              "      <td>-0.091374</td>\n",
              "      <td>0.075107</td>\n",
              "      <td>0.008958</td>\n",
              "      <td>0.133336</td>\n",
              "      <td>-0.025575</td>\n",
              "      <td>-0.008294</td>\n",
              "      <td>-0.029904</td>\n",
              "      <td>0.051135</td>\n",
              "      <td>0.090290</td>\n",
              "      <td>0.129074</td>\n",
              "      <td>-0.069728</td>\n",
              "      <td>0.005659</td>\n",
              "      <td>0.001328</td>\n",
              "      <td>-0.005164</td>\n",
              "      <td>0.020075</td>\n",
              "      <td>0.032857</td>\n",
              "      <td>0.083835</td>\n",
              "      <td>-0.060663</td>\n",
              "      <td>-0.086545</td>\n",
              "      <td>0.020115</td>\n",
              "      <td>0.071898</td>\n",
              "      <td>0.030463</td>\n",
              "      <td>-0.073082</td>\n",
              "      <td>True</td>\n",
              "    </tr>\n",
              "    <tr>\n",
              "      <th>3</th>\n",
              "      <td>307.pdf</td>\n",
              "      <td>1.209099</td>\n",
              "      <td>-0.095308</td>\n",
              "      <td>-0.188723</td>\n",
              "      <td>-0.279304</td>\n",
              "      <td>-0.229785</td>\n",
              "      <td>0.600053</td>\n",
              "      <td>0.418543</td>\n",
              "      <td>0.716127</td>\n",
              "      <td>0.210858</td>\n",
              "      <td>0.122224</td>\n",
              "      <td>-0.114308</td>\n",
              "      <td>0.355733</td>\n",
              "      <td>0.129939</td>\n",
              "      <td>-0.178703</td>\n",
              "      <td>-0.067917</td>\n",
              "      <td>-0.208444</td>\n",
              "      <td>-0.000977</td>\n",
              "      <td>0.191821</td>\n",
              "      <td>0.165471</td>\n",
              "      <td>0.078925</td>\n",
              "      <td>0.071077</td>\n",
              "      <td>-0.222328</td>\n",
              "      <td>-0.237319</td>\n",
              "      <td>-0.094602</td>\n",
              "      <td>0.171737</td>\n",
              "      <td>0.108569</td>\n",
              "      <td>0.030772</td>\n",
              "      <td>0.067236</td>\n",
              "      <td>-0.115265</td>\n",
              "      <td>0.081264</td>\n",
              "      <td>-0.168775</td>\n",
              "      <td>-0.065485</td>\n",
              "      <td>-0.050407</td>\n",
              "      <td>-0.186595</td>\n",
              "      <td>0.202417</td>\n",
              "      <td>0.085907</td>\n",
              "      <td>0.146326</td>\n",
              "      <td>0.156657</td>\n",
              "      <td>0.001818</td>\n",
              "      <td>0.059990</td>\n",
              "      <td>0.170435</td>\n",
              "      <td>-0.021163</td>\n",
              "      <td>0.295658</td>\n",
              "      <td>-0.111351</td>\n",
              "      <td>0.127091</td>\n",
              "      <td>0.129352</td>\n",
              "      <td>-0.169805</td>\n",
              "      <td>-0.033447</td>\n",
              "      <td>0.177744</td>\n",
              "      <td>-0.059852</td>\n",
              "      <td>-0.142569</td>\n",
              "      <td>0.036956</td>\n",
              "      <td>0.058517</td>\n",
              "      <td>-0.100049</td>\n",
              "      <td>-0.031915</td>\n",
              "      <td>0.019310</td>\n",
              "      <td>-0.058427</td>\n",
              "      <td>0.008692</td>\n",
              "      <td>True</td>\n",
              "    </tr>\n",
              "    <tr>\n",
              "      <th>4</th>\n",
              "      <td>308.pdf</td>\n",
              "      <td>0.206198</td>\n",
              "      <td>0.407238</td>\n",
              "      <td>-0.162538</td>\n",
              "      <td>-0.101529</td>\n",
              "      <td>-0.472674</td>\n",
              "      <td>0.712483</td>\n",
              "      <td>0.013673</td>\n",
              "      <td>-0.393989</td>\n",
              "      <td>-0.174554</td>\n",
              "      <td>0.291749</td>\n",
              "      <td>-0.177522</td>\n",
              "      <td>0.424534</td>\n",
              "      <td>0.016129</td>\n",
              "      <td>-0.188306</td>\n",
              "      <td>0.083782</td>\n",
              "      <td>-0.192633</td>\n",
              "      <td>-0.126796</td>\n",
              "      <td>0.188213</td>\n",
              "      <td>-0.161833</td>\n",
              "      <td>0.089729</td>\n",
              "      <td>-0.076106</td>\n",
              "      <td>0.184673</td>\n",
              "      <td>0.159440</td>\n",
              "      <td>0.122037</td>\n",
              "      <td>0.147071</td>\n",
              "      <td>0.049371</td>\n",
              "      <td>-0.020880</td>\n",
              "      <td>0.086082</td>\n",
              "      <td>-0.008078</td>\n",
              "      <td>0.043048</td>\n",
              "      <td>0.078682</td>\n",
              "      <td>0.074466</td>\n",
              "      <td>0.115713</td>\n",
              "      <td>0.181142</td>\n",
              "      <td>0.118057</td>\n",
              "      <td>-0.049975</td>\n",
              "      <td>-0.147098</td>\n",
              "      <td>-0.082858</td>\n",
              "      <td>0.074717</td>\n",
              "      <td>-0.033091</td>\n",
              "      <td>-0.012447</td>\n",
              "      <td>0.026641</td>\n",
              "      <td>-0.017419</td>\n",
              "      <td>-0.063066</td>\n",
              "      <td>-0.042430</td>\n",
              "      <td>0.028436</td>\n",
              "      <td>0.013165</td>\n",
              "      <td>-0.113549</td>\n",
              "      <td>0.004281</td>\n",
              "      <td>0.108712</td>\n",
              "      <td>-0.178860</td>\n",
              "      <td>0.053894</td>\n",
              "      <td>0.044537</td>\n",
              "      <td>0.006363</td>\n",
              "      <td>-0.172570</td>\n",
              "      <td>-0.090322</td>\n",
              "      <td>-0.141223</td>\n",
              "      <td>0.194643</td>\n",
              "      <td>True</td>\n",
              "    </tr>\n",
              "  </tbody>\n",
              "</table>\n",
              "</div>"
            ],
            "text/plain": [
              "  paper_id         0         1  ...        56        57  accepted\n",
              "0  304.pdf -0.489618  0.406951  ... -0.040229  0.144672      True\n",
              "1  305.pdf -0.378550 -0.026607  ...  0.099567  0.103073      True\n",
              "2  306.pdf -0.162822  0.438935  ...  0.030463 -0.073082      True\n",
              "3  307.pdf  1.209099 -0.095308  ... -0.058427  0.008692      True\n",
              "4  308.pdf  0.206198  0.407238  ... -0.141223  0.194643      True\n",
              "\n",
              "[5 rows x 60 columns]"
            ]
          },
          "metadata": {
            "tags": []
          },
          "execution_count": 25
        }
      ]
    },
    {
      "cell_type": "code",
      "metadata": {
        "id": "HbjgCXuvJF14",
        "colab_type": "code",
        "outputId": "06882152-ea65-4fef-fd0f-d2f373ef397b",
        "colab": {
          "base_uri": "https://localhost:8080/",
          "height": 244
        }
      },
      "source": [
        "pca_applied_data = pca.transform(test)\n",
        "pca_applied_data = pd.DataFrame(data = pca_applied_data)\n",
        "pca_applied_data['paper_id'] = Bert_test['paper_id']\n",
        "pca_applied_data['accepted'] = Bert_test['accepted']\n",
        "pca_applied_data = pca_applied_data[ ['paper_id'] + [ col for col in pca_applied_data.columns if col != 'paper_id' ] ]\n",
        "print(pca_applied_data.shape)\n",
        "test_fin = pca_applied_data\n",
        "test_fin.head()"
      ],
      "execution_count": 0,
      "outputs": [
        {
          "output_type": "stream",
          "text": [
            "(77, 60)\n"
          ],
          "name": "stdout"
        },
        {
          "output_type": "execute_result",
          "data": {
            "text/html": [
              "<div>\n",
              "<style scoped>\n",
              "    .dataframe tbody tr th:only-of-type {\n",
              "        vertical-align: middle;\n",
              "    }\n",
              "\n",
              "    .dataframe tbody tr th {\n",
              "        vertical-align: top;\n",
              "    }\n",
              "\n",
              "    .dataframe thead th {\n",
              "        text-align: right;\n",
              "    }\n",
              "</style>\n",
              "<table border=\"1\" class=\"dataframe\">\n",
              "  <thead>\n",
              "    <tr style=\"text-align: right;\">\n",
              "      <th></th>\n",
              "      <th>paper_id</th>\n",
              "      <th>0</th>\n",
              "      <th>1</th>\n",
              "      <th>2</th>\n",
              "      <th>3</th>\n",
              "      <th>4</th>\n",
              "      <th>5</th>\n",
              "      <th>6</th>\n",
              "      <th>7</th>\n",
              "      <th>8</th>\n",
              "      <th>9</th>\n",
              "      <th>10</th>\n",
              "      <th>11</th>\n",
              "      <th>12</th>\n",
              "      <th>13</th>\n",
              "      <th>14</th>\n",
              "      <th>15</th>\n",
              "      <th>16</th>\n",
              "      <th>17</th>\n",
              "      <th>18</th>\n",
              "      <th>19</th>\n",
              "      <th>20</th>\n",
              "      <th>21</th>\n",
              "      <th>22</th>\n",
              "      <th>23</th>\n",
              "      <th>24</th>\n",
              "      <th>25</th>\n",
              "      <th>26</th>\n",
              "      <th>27</th>\n",
              "      <th>28</th>\n",
              "      <th>29</th>\n",
              "      <th>30</th>\n",
              "      <th>31</th>\n",
              "      <th>32</th>\n",
              "      <th>33</th>\n",
              "      <th>34</th>\n",
              "      <th>35</th>\n",
              "      <th>36</th>\n",
              "      <th>37</th>\n",
              "      <th>38</th>\n",
              "      <th>39</th>\n",
              "      <th>40</th>\n",
              "      <th>41</th>\n",
              "      <th>42</th>\n",
              "      <th>43</th>\n",
              "      <th>44</th>\n",
              "      <th>45</th>\n",
              "      <th>46</th>\n",
              "      <th>47</th>\n",
              "      <th>48</th>\n",
              "      <th>49</th>\n",
              "      <th>50</th>\n",
              "      <th>51</th>\n",
              "      <th>52</th>\n",
              "      <th>53</th>\n",
              "      <th>54</th>\n",
              "      <th>55</th>\n",
              "      <th>56</th>\n",
              "      <th>57</th>\n",
              "      <th>accepted</th>\n",
              "    </tr>\n",
              "  </thead>\n",
              "  <tbody>\n",
              "    <tr>\n",
              "      <th>0</th>\n",
              "      <td>316.pdf</td>\n",
              "      <td>1.435818</td>\n",
              "      <td>-0.348435</td>\n",
              "      <td>0.619462</td>\n",
              "      <td>0.281788</td>\n",
              "      <td>-0.339891</td>\n",
              "      <td>0.421263</td>\n",
              "      <td>-0.422685</td>\n",
              "      <td>-0.060561</td>\n",
              "      <td>0.184359</td>\n",
              "      <td>-0.099122</td>\n",
              "      <td>-0.063248</td>\n",
              "      <td>0.028550</td>\n",
              "      <td>-0.074998</td>\n",
              "      <td>0.284707</td>\n",
              "      <td>-0.146173</td>\n",
              "      <td>-0.314911</td>\n",
              "      <td>-0.024733</td>\n",
              "      <td>0.090176</td>\n",
              "      <td>-0.123683</td>\n",
              "      <td>0.262380</td>\n",
              "      <td>-0.162963</td>\n",
              "      <td>-0.266062</td>\n",
              "      <td>-0.160919</td>\n",
              "      <td>-0.210415</td>\n",
              "      <td>-0.302885</td>\n",
              "      <td>-0.163493</td>\n",
              "      <td>-0.251652</td>\n",
              "      <td>-0.122830</td>\n",
              "      <td>0.101870</td>\n",
              "      <td>0.110957</td>\n",
              "      <td>-0.010847</td>\n",
              "      <td>0.189428</td>\n",
              "      <td>-0.048091</td>\n",
              "      <td>0.048383</td>\n",
              "      <td>-0.007125</td>\n",
              "      <td>-0.194698</td>\n",
              "      <td>0.051379</td>\n",
              "      <td>0.082332</td>\n",
              "      <td>-0.231290</td>\n",
              "      <td>-0.049693</td>\n",
              "      <td>0.096812</td>\n",
              "      <td>-0.022400</td>\n",
              "      <td>0.067022</td>\n",
              "      <td>0.029492</td>\n",
              "      <td>-0.118901</td>\n",
              "      <td>0.093326</td>\n",
              "      <td>-0.035285</td>\n",
              "      <td>-0.024858</td>\n",
              "      <td>0.025278</td>\n",
              "      <td>0.074652</td>\n",
              "      <td>-0.015469</td>\n",
              "      <td>-0.009315</td>\n",
              "      <td>-0.202641</td>\n",
              "      <td>0.150329</td>\n",
              "      <td>-0.044400</td>\n",
              "      <td>0.092237</td>\n",
              "      <td>0.075851</td>\n",
              "      <td>-0.013066</td>\n",
              "      <td>True</td>\n",
              "    </tr>\n",
              "    <tr>\n",
              "      <th>1</th>\n",
              "      <td>325.pdf</td>\n",
              "      <td>-1.071523</td>\n",
              "      <td>0.556425</td>\n",
              "      <td>-0.337098</td>\n",
              "      <td>0.403767</td>\n",
              "      <td>-0.197794</td>\n",
              "      <td>0.226238</td>\n",
              "      <td>-0.140660</td>\n",
              "      <td>0.204592</td>\n",
              "      <td>-0.002709</td>\n",
              "      <td>0.008904</td>\n",
              "      <td>0.018752</td>\n",
              "      <td>-0.095495</td>\n",
              "      <td>-0.083478</td>\n",
              "      <td>-0.193118</td>\n",
              "      <td>-0.167350</td>\n",
              "      <td>-0.072190</td>\n",
              "      <td>-0.129687</td>\n",
              "      <td>0.232162</td>\n",
              "      <td>-0.100899</td>\n",
              "      <td>-0.053723</td>\n",
              "      <td>-0.032515</td>\n",
              "      <td>-0.145018</td>\n",
              "      <td>0.014525</td>\n",
              "      <td>0.070099</td>\n",
              "      <td>-0.251353</td>\n",
              "      <td>0.169115</td>\n",
              "      <td>0.093303</td>\n",
              "      <td>-0.115623</td>\n",
              "      <td>0.035273</td>\n",
              "      <td>0.007925</td>\n",
              "      <td>0.082842</td>\n",
              "      <td>-0.134529</td>\n",
              "      <td>0.135946</td>\n",
              "      <td>0.237711</td>\n",
              "      <td>-0.113921</td>\n",
              "      <td>0.081940</td>\n",
              "      <td>0.018247</td>\n",
              "      <td>0.052062</td>\n",
              "      <td>0.008916</td>\n",
              "      <td>-0.172794</td>\n",
              "      <td>0.000962</td>\n",
              "      <td>-0.052828</td>\n",
              "      <td>-0.002962</td>\n",
              "      <td>0.031458</td>\n",
              "      <td>-0.022577</td>\n",
              "      <td>0.004294</td>\n",
              "      <td>-0.034554</td>\n",
              "      <td>-0.041772</td>\n",
              "      <td>-0.151700</td>\n",
              "      <td>0.045477</td>\n",
              "      <td>0.036771</td>\n",
              "      <td>-0.031355</td>\n",
              "      <td>-0.075741</td>\n",
              "      <td>-0.017403</td>\n",
              "      <td>0.013129</td>\n",
              "      <td>0.050092</td>\n",
              "      <td>0.002623</td>\n",
              "      <td>-0.127876</td>\n",
              "      <td>True</td>\n",
              "    </tr>\n",
              "    <tr>\n",
              "      <th>2</th>\n",
              "      <td>328.pdf</td>\n",
              "      <td>0.615214</td>\n",
              "      <td>0.456142</td>\n",
              "      <td>0.179919</td>\n",
              "      <td>0.088500</td>\n",
              "      <td>-0.578029</td>\n",
              "      <td>-0.848075</td>\n",
              "      <td>0.585798</td>\n",
              "      <td>-0.229542</td>\n",
              "      <td>-0.045906</td>\n",
              "      <td>0.184843</td>\n",
              "      <td>0.044462</td>\n",
              "      <td>0.088623</td>\n",
              "      <td>0.125320</td>\n",
              "      <td>0.191036</td>\n",
              "      <td>0.154963</td>\n",
              "      <td>0.116577</td>\n",
              "      <td>-0.076539</td>\n",
              "      <td>-0.135086</td>\n",
              "      <td>-0.079647</td>\n",
              "      <td>0.276673</td>\n",
              "      <td>0.088867</td>\n",
              "      <td>-0.108912</td>\n",
              "      <td>0.175123</td>\n",
              "      <td>0.264395</td>\n",
              "      <td>0.007838</td>\n",
              "      <td>0.112518</td>\n",
              "      <td>-0.190353</td>\n",
              "      <td>-0.127049</td>\n",
              "      <td>-0.163564</td>\n",
              "      <td>-0.092677</td>\n",
              "      <td>-0.045795</td>\n",
              "      <td>0.068837</td>\n",
              "      <td>-0.023314</td>\n",
              "      <td>-0.115056</td>\n",
              "      <td>0.003244</td>\n",
              "      <td>-0.006172</td>\n",
              "      <td>0.140962</td>\n",
              "      <td>0.061931</td>\n",
              "      <td>-0.002468</td>\n",
              "      <td>-0.086841</td>\n",
              "      <td>-0.107210</td>\n",
              "      <td>-0.146090</td>\n",
              "      <td>-0.027415</td>\n",
              "      <td>-0.008996</td>\n",
              "      <td>-0.095967</td>\n",
              "      <td>-0.086174</td>\n",
              "      <td>0.014980</td>\n",
              "      <td>0.049903</td>\n",
              "      <td>-0.049461</td>\n",
              "      <td>0.034380</td>\n",
              "      <td>-0.072875</td>\n",
              "      <td>-0.015732</td>\n",
              "      <td>0.042267</td>\n",
              "      <td>-0.057639</td>\n",
              "      <td>0.047918</td>\n",
              "      <td>-0.109804</td>\n",
              "      <td>0.178021</td>\n",
              "      <td>0.095584</td>\n",
              "      <td>True</td>\n",
              "    </tr>\n",
              "    <tr>\n",
              "      <th>3</th>\n",
              "      <td>340.pdf</td>\n",
              "      <td>-0.807391</td>\n",
              "      <td>0.126312</td>\n",
              "      <td>-0.332372</td>\n",
              "      <td>0.458134</td>\n",
              "      <td>0.459138</td>\n",
              "      <td>-0.056564</td>\n",
              "      <td>0.459982</td>\n",
              "      <td>-0.019458</td>\n",
              "      <td>0.207174</td>\n",
              "      <td>-0.039437</td>\n",
              "      <td>0.054318</td>\n",
              "      <td>0.007375</td>\n",
              "      <td>0.073552</td>\n",
              "      <td>-0.014639</td>\n",
              "      <td>0.167613</td>\n",
              "      <td>-0.280172</td>\n",
              "      <td>0.005029</td>\n",
              "      <td>0.120076</td>\n",
              "      <td>0.060220</td>\n",
              "      <td>0.107789</td>\n",
              "      <td>0.020070</td>\n",
              "      <td>-0.125100</td>\n",
              "      <td>-0.096756</td>\n",
              "      <td>-0.147032</td>\n",
              "      <td>0.136059</td>\n",
              "      <td>0.096147</td>\n",
              "      <td>-0.015024</td>\n",
              "      <td>-0.017031</td>\n",
              "      <td>-0.108272</td>\n",
              "      <td>0.068010</td>\n",
              "      <td>0.001295</td>\n",
              "      <td>0.070115</td>\n",
              "      <td>0.073472</td>\n",
              "      <td>0.004593</td>\n",
              "      <td>0.047053</td>\n",
              "      <td>0.039435</td>\n",
              "      <td>-0.130036</td>\n",
              "      <td>0.014570</td>\n",
              "      <td>0.008239</td>\n",
              "      <td>-0.034970</td>\n",
              "      <td>0.049245</td>\n",
              "      <td>-0.092439</td>\n",
              "      <td>0.002500</td>\n",
              "      <td>-0.079677</td>\n",
              "      <td>-0.068763</td>\n",
              "      <td>-0.016400</td>\n",
              "      <td>-0.057770</td>\n",
              "      <td>0.000259</td>\n",
              "      <td>-0.200116</td>\n",
              "      <td>0.029918</td>\n",
              "      <td>-0.043919</td>\n",
              "      <td>0.058498</td>\n",
              "      <td>0.008581</td>\n",
              "      <td>-0.038085</td>\n",
              "      <td>0.101888</td>\n",
              "      <td>-0.004729</td>\n",
              "      <td>-0.006118</td>\n",
              "      <td>-0.113358</td>\n",
              "      <td>True</td>\n",
              "    </tr>\n",
              "    <tr>\n",
              "      <th>4</th>\n",
              "      <td>350.pdf</td>\n",
              "      <td>0.304558</td>\n",
              "      <td>0.559218</td>\n",
              "      <td>0.173473</td>\n",
              "      <td>-0.000855</td>\n",
              "      <td>-0.008936</td>\n",
              "      <td>-0.290413</td>\n",
              "      <td>0.384110</td>\n",
              "      <td>-0.200003</td>\n",
              "      <td>0.069930</td>\n",
              "      <td>-0.012058</td>\n",
              "      <td>-0.066925</td>\n",
              "      <td>0.045376</td>\n",
              "      <td>0.119427</td>\n",
              "      <td>0.085016</td>\n",
              "      <td>0.014693</td>\n",
              "      <td>0.178209</td>\n",
              "      <td>0.116980</td>\n",
              "      <td>0.084341</td>\n",
              "      <td>0.051439</td>\n",
              "      <td>-0.072655</td>\n",
              "      <td>0.002341</td>\n",
              "      <td>0.083049</td>\n",
              "      <td>0.010268</td>\n",
              "      <td>-0.008024</td>\n",
              "      <td>-0.073841</td>\n",
              "      <td>-0.161280</td>\n",
              "      <td>0.082888</td>\n",
              "      <td>0.029207</td>\n",
              "      <td>-0.030913</td>\n",
              "      <td>-0.034564</td>\n",
              "      <td>0.122630</td>\n",
              "      <td>-0.106713</td>\n",
              "      <td>0.045064</td>\n",
              "      <td>-0.081024</td>\n",
              "      <td>-0.085938</td>\n",
              "      <td>-0.153997</td>\n",
              "      <td>-0.019388</td>\n",
              "      <td>0.059669</td>\n",
              "      <td>0.082313</td>\n",
              "      <td>0.031585</td>\n",
              "      <td>0.010518</td>\n",
              "      <td>0.082012</td>\n",
              "      <td>0.005905</td>\n",
              "      <td>-0.036791</td>\n",
              "      <td>0.017296</td>\n",
              "      <td>0.045608</td>\n",
              "      <td>-0.162942</td>\n",
              "      <td>0.126633</td>\n",
              "      <td>0.067827</td>\n",
              "      <td>-0.064485</td>\n",
              "      <td>-0.102532</td>\n",
              "      <td>-0.034983</td>\n",
              "      <td>-0.015168</td>\n",
              "      <td>0.027394</td>\n",
              "      <td>0.066582</td>\n",
              "      <td>-0.069107</td>\n",
              "      <td>0.018323</td>\n",
              "      <td>0.020452</td>\n",
              "      <td>True</td>\n",
              "    </tr>\n",
              "  </tbody>\n",
              "</table>\n",
              "</div>"
            ],
            "text/plain": [
              "  paper_id         0         1  ...        56        57  accepted\n",
              "0  316.pdf  1.435818 -0.348435  ...  0.075851 -0.013066      True\n",
              "1  325.pdf -1.071523  0.556425  ...  0.002623 -0.127876      True\n",
              "2  328.pdf  0.615214  0.456142  ...  0.178021  0.095584      True\n",
              "3  340.pdf -0.807391  0.126312  ... -0.006118 -0.113358      True\n",
              "4  350.pdf  0.304558  0.559218  ...  0.018323  0.020452      True\n",
              "\n",
              "[5 rows x 60 columns]"
            ]
          },
          "metadata": {
            "tags": []
          },
          "execution_count": 26
        }
      ]
    },
    {
      "cell_type": "markdown",
      "metadata": {
        "id": "Iwv10hm0HZ2Z",
        "colab_type": "text"
      },
      "source": [
        "# TRAIN-TEST SPLIT"
      ]
    },
    {
      "cell_type": "code",
      "metadata": {
        "id": "b898dmSIJMvJ",
        "colab_type": "code",
        "colab": {}
      },
      "source": [
        "x_indices = []\n",
        "for i in range(1,59):\n",
        "  x_indices.append(i)\n",
        "\n",
        "Xtrain = train_fin.iloc[0:,x_indices]\n",
        "ytrain = train_fin.iloc[0:,59]\n",
        "\n",
        "Xtest = test_fin.iloc[0:,x_indices]\n",
        "ytest = test_fin.iloc[0:,59]"
      ],
      "execution_count": 0,
      "outputs": []
    },
    {
      "cell_type": "markdown",
      "metadata": {
        "id": "9QslX8yC7V4E",
        "colab_type": "text"
      },
      "source": [
        "## SVM"
      ]
    },
    {
      "cell_type": "code",
      "metadata": {
        "id": "rqiKeiA0ILsT",
        "colab_type": "code",
        "outputId": "bf4e7cb2-7da5-4cfc-b7f7-e94abf090fb1",
        "colab": {
          "base_uri": "https://localhost:8080/",
          "height": 278
        }
      },
      "source": [
        "parameters = {'kernel':('rbf', 'poly', 'sigmoid'), 'C':range(1,100)}\n",
        "svc = SVC()\n",
        "svm_clf = GridSearchCV(svc, parameters, verbose=1, cv=10)\n",
        "svm_clf.fit(Xtrain, ytrain)"
      ],
      "execution_count": 0,
      "outputs": [
        {
          "output_type": "stream",
          "text": [
            "Fitting 10 folds for each of 297 candidates, totalling 2970 fits\n"
          ],
          "name": "stdout"
        },
        {
          "output_type": "stream",
          "text": [
            "[Parallel(n_jobs=1)]: Using backend SequentialBackend with 1 concurrent workers.\n",
            "[Parallel(n_jobs=1)]: Done 2970 out of 2970 | elapsed:   45.1s finished\n"
          ],
          "name": "stderr"
        },
        {
          "output_type": "execute_result",
          "data": {
            "text/plain": [
              "GridSearchCV(cv=10, error_score=nan,\n",
              "             estimator=SVC(C=1.0, break_ties=False, cache_size=200,\n",
              "                           class_weight=None, coef0=0.0,\n",
              "                           decision_function_shape='ovr', degree=3,\n",
              "                           gamma='scale', kernel='rbf', max_iter=-1,\n",
              "                           probability=False, random_state=None, shrinking=True,\n",
              "                           tol=0.001, verbose=False),\n",
              "             iid='deprecated', n_jobs=None,\n",
              "             param_grid={'C': range(1, 100),\n",
              "                         'kernel': ('rbf', 'poly', 'sigmoid')},\n",
              "             pre_dispatch='2*n_jobs', refit=True, return_train_score=False,\n",
              "             scoring=None, verbose=1)"
            ]
          },
          "metadata": {
            "tags": []
          },
          "execution_count": 30
        }
      ]
    },
    {
      "cell_type": "code",
      "metadata": {
        "id": "itOnqxnk_kD_",
        "colab_type": "code",
        "outputId": "68e56886-94b5-4042-908d-e130c542f259",
        "colab": {
          "base_uri": "https://localhost:8080/",
          "height": 121
        }
      },
      "source": [
        "print(svm_clf.best_estimator_)\n",
        "print(svm_clf.best_params_)\n",
        "print(svm_clf.best_score_)"
      ],
      "execution_count": 0,
      "outputs": [
        {
          "output_type": "stream",
          "text": [
            "SVC(C=1, break_ties=False, cache_size=200, class_weight=None, coef0=0.0,\n",
            "    decision_function_shape='ovr', degree=3, gamma='scale', kernel='poly',\n",
            "    max_iter=-1, probability=False, random_state=None, shrinking=True,\n",
            "    tol=0.001, verbose=False)\n",
            "{'C': 1, 'kernel': 'poly'}\n",
            "0.6047058823529412\n"
          ],
          "name": "stdout"
        }
      ]
    },
    {
      "cell_type": "code",
      "metadata": {
        "id": "T4nTjNCnN0Fe",
        "colab_type": "code",
        "colab": {}
      },
      "source": [
        "scores = cross_val_score(svm_clf, Xtrain, ytrain, cv=10)"
      ],
      "execution_count": 0,
      "outputs": []
    },
    {
      "cell_type": "code",
      "metadata": {
        "id": "SlrQG6n0Oxvy",
        "colab_type": "code",
        "outputId": "202bd4af-9273-4b44-c22a-67fb86e2f0ef",
        "colab": {
          "base_uri": "https://localhost:8080/",
          "height": 34
        }
      },
      "source": [
        "scores.mean()"
      ],
      "execution_count": 0,
      "outputs": [
        {
          "output_type": "execute_result",
          "data": {
            "text/plain": [
              "0.5701680672268907"
            ]
          },
          "metadata": {
            "tags": []
          },
          "execution_count": 44
        }
      ]
    },
    {
      "cell_type": "code",
      "metadata": {
        "id": "yC4onczZLOW4",
        "colab_type": "code",
        "outputId": "4653e494-02b6-4c5f-b078-78f02addb06f",
        "colab": {
          "base_uri": "https://localhost:8080/",
          "height": 208
        }
      },
      "source": [
        "clf_predictions = svm_clf.predict(Xtest)\n",
        "print(confusion_matrix(ytest,clf_predictions))\n",
        "print(classification_report(ytest,clf_predictions))"
      ],
      "execution_count": 0,
      "outputs": [
        {
          "output_type": "stream",
          "text": [
            "[[41  3]\n",
            " [28  5]]\n",
            "              precision    recall  f1-score   support\n",
            "\n",
            "       False       0.59      0.93      0.73        44\n",
            "        True       0.62      0.15      0.24        33\n",
            "\n",
            "    accuracy                           0.60        77\n",
            "   macro avg       0.61      0.54      0.48        77\n",
            "weighted avg       0.61      0.60      0.52        77\n",
            "\n"
          ],
          "name": "stdout"
        }
      ]
    },
    {
      "cell_type": "markdown",
      "metadata": {
        "id": "skuQXVHWwneX",
        "colab_type": "text"
      },
      "source": [
        "**ENVIRONMENT SETUP**"
      ]
    },
    {
      "cell_type": "code",
      "metadata": {
        "id": "M6FdLSTPWN9w",
        "colab_type": "code",
        "outputId": "f1eeba92-d28a-464c-9998-785db61f9405",
        "colab": {
          "base_uri": "https://localhost:8080/",
          "height": 334
        }
      },
      "source": [
        "pip install prince"
      ],
      "execution_count": 0,
      "outputs": [
        {
          "output_type": "stream",
          "text": [
            "Collecting prince\n",
            "  Downloading https://files.pythonhosted.org/packages/51/f4/8de7003b86351a0e32e29ca2bbbbbf58e311b09f9286e83e638d437aee6d/prince-0.7.0-py3-none-any.whl\n",
            "Requirement already satisfied: numpy>=1.17.1 in /usr/local/lib/python3.6/dist-packages (from prince) (1.18.2)\n",
            "Requirement already satisfied: matplotlib>=3.0.2 in /usr/local/lib/python3.6/dist-packages (from prince) (3.2.1)\n",
            "Requirement already satisfied: scipy>=1.3.0 in /usr/local/lib/python3.6/dist-packages (from prince) (1.4.1)\n",
            "Requirement already satisfied: scikit-learn>=0.22.1 in /usr/local/lib/python3.6/dist-packages (from prince) (0.22.2.post1)\n",
            "Requirement already satisfied: pandas>=1.0.3 in /usr/local/lib/python3.6/dist-packages (from prince) (1.0.3)\n",
            "Requirement already satisfied: python-dateutil>=2.1 in /usr/local/lib/python3.6/dist-packages (from matplotlib>=3.0.2->prince) (2.8.1)\n",
            "Requirement already satisfied: cycler>=0.10 in /usr/local/lib/python3.6/dist-packages (from matplotlib>=3.0.2->prince) (0.10.0)\n",
            "Requirement already satisfied: kiwisolver>=1.0.1 in /usr/local/lib/python3.6/dist-packages (from matplotlib>=3.0.2->prince) (1.2.0)\n",
            "Requirement already satisfied: pyparsing!=2.0.4,!=2.1.2,!=2.1.6,>=2.0.1 in /usr/local/lib/python3.6/dist-packages (from matplotlib>=3.0.2->prince) (2.4.7)\n",
            "Requirement already satisfied: joblib>=0.11 in /usr/local/lib/python3.6/dist-packages (from scikit-learn>=0.22.1->prince) (0.14.1)\n",
            "Requirement already satisfied: pytz>=2017.2 in /usr/local/lib/python3.6/dist-packages (from pandas>=1.0.3->prince) (2018.9)\n",
            "Requirement already satisfied: six>=1.5 in /usr/local/lib/python3.6/dist-packages (from python-dateutil>=2.1->matplotlib>=3.0.2->prince) (1.12.0)\n",
            "Installing collected packages: prince\n",
            "Successfully installed prince-0.7.0\n"
          ],
          "name": "stdout"
        }
      ]
    },
    {
      "cell_type": "code",
      "metadata": {
        "id": "ccY4pcz_W0sM",
        "colab_type": "code",
        "colab": {}
      },
      "source": [
        "import pandas as pd\n",
        "import numpy as np\n",
        "import prince\n",
        "from sklearn.svm import SVC\n",
        "from sklearn.model_selection import GridSearchCV,cross_val_score\n",
        "import pickle\n",
        "from sklearn.metrics import classification_report, confusion_matrix\n",
        "from sklearn.decomposition import PCA\n",
        "from tqdm import tqdm"
      ],
      "execution_count": 0,
      "outputs": []
    },
    {
      "cell_type": "markdown",
      "metadata": {
        "id": "In9kc2JNxAIq",
        "colab_type": "text"
      },
      "source": [
        "**DATA SETUP**"
      ]
    },
    {
      "cell_type": "code",
      "metadata": {
        "id": "Vn9rQY-hXOAn",
        "colab_type": "code",
        "outputId": "460ebba3-e82e-4489-b72c-86c68594a0ed",
        "colab": {
          "base_uri": "https://localhost:8080/",
          "height": 130
        }
      },
      "source": [
        "from google.colab import drive\n",
        "drive.mount('/content/drive')"
      ],
      "execution_count": 0,
      "outputs": [
        {
          "output_type": "stream",
          "text": [
            "Go to this URL in a browser: https://accounts.google.com/o/oauth2/auth?client_id=947318989803-6bn6qk8qdgf4n4g3pfee6491hc0brc4i.apps.googleusercontent.com&redirect_uri=urn%3aietf%3awg%3aoauth%3a2.0%3aoob&response_type=code&scope=email%20https%3a%2f%2fwww.googleapis.com%2fauth%2fdocs.test%20https%3a%2f%2fwww.googleapis.com%2fauth%2fdrive%20https%3a%2f%2fwww.googleapis.com%2fauth%2fdrive.photos.readonly%20https%3a%2f%2fwww.googleapis.com%2fauth%2fpeopleapi.readonly\n",
            "\n",
            "Enter your authorization code:\n",
            "··········\n",
            "Mounted at /content/drive\n"
          ],
          "name": "stdout"
        }
      ]
    },
    {
      "cell_type": "code",
      "metadata": {
        "id": "HV3zITR6W5e5",
        "colab_type": "code",
        "colab": {}
      },
      "source": [
        "train_data_df = pd.read_pickle(\"/content/drive/My Drive/ML/paper_data_train.pkl\")\n",
        "train_data_features = train_data_df.drop(columns=['paper_id','feature_extraction_encoding','tfidf_encoding','accepted'])\n",
        "test_data_df = pd.read_pickle(\"/content/drive/My Drive/ML/paper_data_test.pkl\")\n",
        "test_data_features = test_data_df.drop(columns=['paper_id','feature_extraction_encoding','tfidf_encoding','accepted'])"
      ],
      "execution_count": 0,
      "outputs": []
    },
    {
      "cell_type": "code",
      "metadata": {
        "id": "ogXhqtUI2IeP",
        "colab_type": "code",
        "colab": {}
      },
      "source": [
        "#TRAIN DATA\n",
        "X_train = np.vstack(train_data_df['feature_extraction_encoding'].values.tolist())\n",
        "y_train = np.asarray([1 if item==True else 0 for item in list(train_data_df['accepted'])])\n",
        "\n",
        "#TEST DATA\n",
        "X_test = np.vstack(test_data_df['feature_extraction_encoding'].values.tolist())\n",
        "y_test = np.asarray([1 if item==True else 0 for item in list(test_data_df['accepted'])])"
      ],
      "execution_count": 0,
      "outputs": []
    },
    {
      "cell_type": "markdown",
      "metadata": {
        "id": "g1iW_hIZ0uyQ",
        "colab_type": "text"
      },
      "source": [
        "**DIMENSION REDUCTION**"
      ]
    },
    {
      "cell_type": "code",
      "metadata": {
        "id": "7zfqdJUI0q9V",
        "colab_type": "code",
        "outputId": "ffaae43e-e341-4b90-e2ba-561b8823143c",
        "colab": {
          "base_uri": "https://localhost:8080/",
          "height": 73
        }
      },
      "source": [
        "bert_vector_size = X_train.shape[1]+1\n",
        "for i in tqdm(range(2,bert_vector_size)):\n",
        "    pca = prince.PCA(n_components=i)\n",
        "    pca = pca.fit(X_train)\n",
        "    retained_variance = sum(pca.explained_inertia_)\n",
        "    if retained_variance > 0.95:\n",
        "        break\n",
        "print(\"\\nVariance retained for \",i,\" components = \",retained_variance)\n",
        "X_train_reduced = pca.fit_transform(X_train)\n",
        "X_test_reduced = pca.transform(X_test)\n"
      ],
      "execution_count": 0,
      "outputs": [
        {
          "output_type": "stream",
          "text": [
            " 17%|█▋        | 134/767 [00:05<00:26, 23.45it/s]\n"
          ],
          "name": "stderr"
        },
        {
          "output_type": "stream",
          "text": [
            "\n",
            "Variance retained for  137  components =  0.9502651618209814\n"
          ],
          "name": "stdout"
        }
      ]
    },
    {
      "cell_type": "markdown",
      "metadata": {
        "id": "HtB_ru4wP8bO",
        "colab_type": "text"
      },
      "source": [
        "\n",
        "\n",
        "---\n",
        "**LOGISTIC REGRESSION**\n",
        "\n",
        "---\n",
        "\n",
        "\n"
      ]
    },
    {
      "cell_type": "code",
      "metadata": {
        "id": "n4xsHX-OWrYk",
        "colab_type": "code",
        "outputId": "93246c1d-c99d-450c-9027-9e5746af3fad",
        "colab": {
          "base_uri": "https://localhost:8080/",
          "height": 406
        }
      },
      "source": [
        "from sklearn.linear_model import LogisticRegression\n",
        "parameters = {'solver':['liblinear'],'penalty':('l1', 'l2', 'elasticnet'), 'C':range(1,50), 'fit_intercept':(True, False), 'class_weight':(None, 'balanced')}\n",
        "bert_lr = LogisticRegression(max_iter=700,warm_start=True)\n",
        "clf_bert_lr = GridSearchCV(bert_lr, param_grid=parameters, verbose=1, cv=3, n_jobs=-1)\n",
        "clf_bert_lr.fit(X_train_reduced, y_train)"
      ],
      "execution_count": 0,
      "outputs": [
        {
          "output_type": "stream",
          "text": [
            "Fitting 3 folds for each of 588 candidates, totalling 1764 fits\n"
          ],
          "name": "stdout"
        },
        {
          "output_type": "stream",
          "text": [
            "[Parallel(n_jobs=-1)]: Using backend LokyBackend with 2 concurrent workers.\n",
            "[Parallel(n_jobs=-1)]: Done 216 tasks      | elapsed:    5.7s\n",
            "[Parallel(n_jobs=-1)]: Done 1416 tasks      | elapsed:   58.9s\n",
            "[Parallel(n_jobs=-1)]: Done 1764 out of 1764 | elapsed:  1.3min finished\n"
          ],
          "name": "stderr"
        },
        {
          "output_type": "execute_result",
          "data": {
            "text/plain": [
              "GridSearchCV(cv=3, error_score=nan,\n",
              "             estimator=LogisticRegression(C=1.0, class_weight=None, dual=False,\n",
              "                                          fit_intercept=True,\n",
              "                                          intercept_scaling=1, l1_ratio=None,\n",
              "                                          max_iter=700, multi_class='auto',\n",
              "                                          n_jobs=None, penalty='l2',\n",
              "                                          random_state=None, solver='lbfgs',\n",
              "                                          tol=0.0001, verbose=0,\n",
              "                                          warm_start=True),\n",
              "             iid='deprecated', n_jobs=-1,\n",
              "             param_grid={'C': range(1, 50), 'class_weight': (None, 'balanced'),\n",
              "                         'fit_intercept': (True, False),\n",
              "                         'penalty': ('l1', 'l2', 'elasticnet'),\n",
              "                         'solver': ['liblinear']},\n",
              "             pre_dispatch='2*n_jobs', refit=True, return_train_score=False,\n",
              "             scoring=None, verbose=1)"
            ]
          },
          "metadata": {
            "tags": []
          },
          "execution_count": 33
        }
      ]
    },
    {
      "cell_type": "code",
      "metadata": {
        "id": "935m_aXZbHPq",
        "colab_type": "code",
        "colab": {}
      },
      "source": [
        "filename = 'bert_lr_model.sav'\n",
        "pickle.dump(clf_bert_lr, open(filename, 'wb'))"
      ],
      "execution_count": 0,
      "outputs": []
    },
    {
      "cell_type": "code",
      "metadata": {
        "id": "ppDBHmcnbf0_",
        "colab_type": "code",
        "outputId": "8077b615-4aca-4159-beb6-33b9d67e0bc2",
        "colab": {
          "base_uri": "https://localhost:8080/",
          "height": 54
        }
      },
      "source": [
        "best_params = clf_bert_lr.best_params_\n",
        "val_score = clf_bert_lr.best_score_\n",
        "print(best_params)\n",
        "print(\"VALIDATION SCORE =\", val_score)"
      ],
      "execution_count": 0,
      "outputs": [
        {
          "output_type": "stream",
          "text": [
            "{'C': 43, 'class_weight': None, 'fit_intercept': True, 'penalty': 'l1', 'solver': 'liblinear'}\n",
            "VALIDATION SCORE = 0.5644464092739955\n"
          ],
          "name": "stdout"
        }
      ]
    },
    {
      "cell_type": "code",
      "metadata": {
        "id": "3lQfChiob_-t",
        "colab_type": "code",
        "outputId": "a6c9901d-97cb-41d0-fe0c-7b5965721b48",
        "colab": {
          "base_uri": "https://localhost:8080/",
          "height": 221
        }
      },
      "source": [
        "clf_predictions = clf_bert_lr.predict(X_test_reduced)\n",
        "print(confusion_matrix(y_test,clf_predictions))\n",
        "print(classification_report(y_test,clf_predictions))"
      ],
      "execution_count": 0,
      "outputs": [
        {
          "output_type": "stream",
          "text": [
            "[[23 21]\n",
            " [20 13]]\n",
            "              precision    recall  f1-score   support\n",
            "\n",
            "           0       0.53      0.52      0.53        44\n",
            "           1       0.38      0.39      0.39        33\n",
            "\n",
            "    accuracy                           0.47        77\n",
            "   macro avg       0.46      0.46      0.46        77\n",
            "weighted avg       0.47      0.47      0.47        77\n",
            "\n"
          ],
          "name": "stdout"
        }
      ]
    },
    {
      "cell_type": "markdown",
      "metadata": {
        "colab_type": "text",
        "id": "_xumwxR63FIX"
      },
      "source": [
        "\n",
        "\n",
        "---\n",
        "**RANDOM FOREST**\n",
        "\n",
        "---\n",
        "\n",
        "\n"
      ]
    },
    {
      "cell_type": "code",
      "metadata": {
        "id": "ZtE9JINNgzEr",
        "colab_type": "code",
        "outputId": "b4af5d56-1219-4848-ce1b-2b2ae5b51208",
        "colab": {
          "base_uri": "https://localhost:8080/",
          "height": 592
        }
      },
      "source": [
        "from sklearn.ensemble import RandomForestClassifier\n",
        "n_estimators = [30, 40, 50, 60, 100]\n",
        "max_depth = [15, 20, 25, 30]\n",
        "min_samples_split = [2, 5, 10, 15, 20]\n",
        "min_samples_leaf = [1, 2, 5]\n",
        "hyperF = dict(n_estimators = n_estimators, max_depth = max_depth,  \n",
        "              min_samples_split = min_samples_split, \n",
        "             min_samples_leaf = min_samples_leaf)\n",
        "\n",
        "bert_rf = RandomForestClassifier()\n",
        "clf_bert_rf = GridSearchCV(bert_rf, hyperF, cv = 5, verbose = 1, n_jobs = -1)\n",
        "clf_bert_rf.fit(X_train_reduced, y_train)"
      ],
      "execution_count": 0,
      "outputs": [
        {
          "output_type": "stream",
          "text": [
            "Fitting 5 folds for each of 300 candidates, totalling 1500 fits\n"
          ],
          "name": "stdout"
        },
        {
          "output_type": "stream",
          "text": [
            "[Parallel(n_jobs=-1)]: Using backend LokyBackend with 2 concurrent workers.\n",
            "[Parallel(n_jobs=-1)]: Done  46 tasks      | elapsed:   31.2s\n",
            "[Parallel(n_jobs=-1)]: Done 196 tasks      | elapsed:  2.2min\n",
            "[Parallel(n_jobs=-1)]: Done 446 tasks      | elapsed:  5.1min\n",
            "[Parallel(n_jobs=-1)]: Done 796 tasks      | elapsed:  8.9min\n",
            "[Parallel(n_jobs=-1)]: Done 1246 tasks      | elapsed: 13.9min\n",
            "[Parallel(n_jobs=-1)]: Done 1500 out of 1500 | elapsed: 16.7min finished\n"
          ],
          "name": "stderr"
        },
        {
          "output_type": "execute_result",
          "data": {
            "text/plain": [
              "GridSearchCV(cv=5, error_score=nan,\n",
              "             estimator=RandomForestClassifier(bootstrap=True, ccp_alpha=0.0,\n",
              "                                              class_weight=None,\n",
              "                                              criterion='gini', max_depth=None,\n",
              "                                              max_features='auto',\n",
              "                                              max_leaf_nodes=None,\n",
              "                                              max_samples=None,\n",
              "                                              min_impurity_decrease=0.0,\n",
              "                                              min_impurity_split=None,\n",
              "                                              min_samples_leaf=1,\n",
              "                                              min_samples_split=2,\n",
              "                                              min_weight_fraction_leaf=0.0,\n",
              "                                              n_estimators=100, n_jobs=None,\n",
              "                                              oob_score=False,\n",
              "                                              random_state=None, verbose=0,\n",
              "                                              warm_start=False),\n",
              "             iid='deprecated', n_jobs=-1,\n",
              "             param_grid={'max_depth': [15, 20, 25, 30],\n",
              "                         'min_samples_leaf': [1, 2, 5],\n",
              "                         'min_samples_split': [2, 5, 10, 15, 20],\n",
              "                         'n_estimators': [50, 100, 300, 500, 800]},\n",
              "             pre_dispatch='2*n_jobs', refit=True, return_train_score=False,\n",
              "             scoring=None, verbose=1)"
            ]
          },
          "metadata": {
            "tags": []
          },
          "execution_count": 44
        }
      ]
    },
    {
      "cell_type": "code",
      "metadata": {
        "colab_type": "code",
        "id": "9voR3A04DfXu",
        "colab": {}
      },
      "source": [
        "filename = 'bert_rf_model.sav'\n",
        "pickle.dump(clf_bert_lr, open(filename, 'wb'))"
      ],
      "execution_count": 0,
      "outputs": []
    },
    {
      "cell_type": "code",
      "metadata": {
        "colab_type": "code",
        "outputId": "cc0b7928-9f7d-4053-fa29-b13c7c616813",
        "id": "gACjHd3iDfYn",
        "colab": {
          "base_uri": "https://localhost:8080/",
          "height": 54
        }
      },
      "source": [
        "best_params = clf_bert_rf.best_params_\n",
        "val_score = clf_bert_rf.best_score_\n",
        "print(best_params)\n",
        "print(\"VALIDATION SCORE =\", val_score)"
      ],
      "execution_count": 0,
      "outputs": [
        {
          "output_type": "stream",
          "text": [
            "{'max_depth': 25, 'min_samples_leaf': 5, 'min_samples_split': 15, 'n_estimators': 50}\n",
            "VALIDATION SCORE = 0.6247619047619047\n"
          ],
          "name": "stdout"
        }
      ]
    },
    {
      "cell_type": "code",
      "metadata": {
        "colab_type": "code",
        "outputId": "e5bdd1c8-dde6-4d2b-c383-3786fd6b59db",
        "id": "7F7JNQrODfZJ",
        "colab": {
          "base_uri": "https://localhost:8080/",
          "height": 221
        }
      },
      "source": [
        "clf_predictions = clf_bert_rf.predict(X_test_reduced)\n",
        "print(confusion_matrix(y_test,clf_predictions))\n",
        "print(classification_report(y_test,clf_predictions))"
      ],
      "execution_count": 0,
      "outputs": [
        {
          "output_type": "stream",
          "text": [
            "[[42  2]\n",
            " [28  5]]\n",
            "              precision    recall  f1-score   support\n",
            "\n",
            "           0       0.60      0.95      0.74        44\n",
            "           1       0.71      0.15      0.25        33\n",
            "\n",
            "    accuracy                           0.61        77\n",
            "   macro avg       0.66      0.55      0.49        77\n",
            "weighted avg       0.65      0.61      0.53        77\n",
            "\n"
          ],
          "name": "stdout"
        }
      ]
    },
    {
      "cell_type": "code",
      "metadata": {
        "id": "AJ7MXRWVMQhA",
        "colab_type": "code",
        "colab": {}
      },
      "source": [
        ""
      ],
      "execution_count": 0,
      "outputs": []
    }
  ]
}